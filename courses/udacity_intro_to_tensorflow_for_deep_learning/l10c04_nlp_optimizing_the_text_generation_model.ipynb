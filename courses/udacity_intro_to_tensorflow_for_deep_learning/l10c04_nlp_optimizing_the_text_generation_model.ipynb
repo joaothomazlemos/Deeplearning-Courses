{
  "nbformat": 4,
  "nbformat_minor": 0,
  "metadata": {
    "accelerator": "GPU",
    "colab": {
      "name": "l10c04_nlp_optimizing_the_text_generation_model.ipynb",
      "provenance": [],
      "collapsed_sections": [],
      "toc_visible": true
    },
    "kernelspec": {
      "display_name": "Python 3",
      "name": "python3"
    }
  },
  "cells": [
    {
      "cell_type": "markdown",
      "metadata": {
        "id": "punL79CN7Ox6"
      },
      "source": [
        "##### Copyright 2020 The TensorFlow Authors."
      ]
    },
    {
      "cell_type": "code",
      "metadata": {
        "cellView": "form",
        "id": "_ckMIh7O7s6D"
      },
      "source": [
        "#@title Licensed under the Apache License, Version 2.0 (the \"License\");\n",
        "# you may not use this file except in compliance with the License.\n",
        "# You may obtain a copy of the License at\n",
        "#\n",
        "# https://www.apache.org/licenses/LICENSE-2.0\n",
        "#\n",
        "# Unless required by applicable law or agreed to in writing, software\n",
        "# distributed under the License is distributed on an \"AS IS\" BASIS,\n",
        "# WITHOUT WARRANTIES OR CONDITIONS OF ANY KIND, either express or implied.\n",
        "# See the License for the specific language governing permissions and\n",
        "# limitations under the License."
      ],
      "execution_count": 1,
      "outputs": []
    },
    {
      "cell_type": "markdown",
      "metadata": {
        "id": "Ph5eir3Pf-3z"
      },
      "source": [
        "# Optimizing the Text Generation Model"
      ]
    },
    {
      "cell_type": "markdown",
      "metadata": {
        "id": "S5Uhzt6vVIB2"
      },
      "source": [
        "<table class=\"tfo-notebook-buttons\" align=\"left\">\n",
        "  <td>\n",
        "    <a target=\"_blank\" href=\"https://colab.research.google.com/github/tensorflow/examples/blob/master/courses/udacity_intro_to_tensorflow_for_deep_learning/l10c04_nlp_optimizing_the_text_generation_model.ipynb\"><img src=\"https://www.tensorflow.org/images/colab_logo_32px.png\" />Run in Google Colab</a>\n",
        "  </td>\n",
        "  <td>\n",
        "    <a target=\"_blank\" href=\"https://github.com/tensorflow/examples/blob/master/courses/udacity_intro_to_tensorflow_for_deep_learning/l10c04_nlp_optimizing_the_text_generation_model.ipynb\"><img src=\"https://www.tensorflow.org/images/GitHub-Mark-32px.png\" />View source on GitHub</a>\n",
        "  </td>\n",
        "</table>"
      ]
    },
    {
      "cell_type": "markdown",
      "metadata": {
        "id": "dCxhW3mtLmfb"
      },
      "source": [
        "You've already done some amazing work with generating new songs, but so far we've seen some issues with repetition and a fair amount of incoherence. By using more data and further tweaking the model, you'll be able to get improved results. We'll once again use the [Kaggle Song Lyrics Dataset](https://www.kaggle.com/mousehead/songlyrics) here."
      ]
    },
    {
      "cell_type": "markdown",
      "metadata": {
        "id": "4aHK2CYygXom"
      },
      "source": [
        "## Import TensorFlow and related functions"
      ]
    },
    {
      "cell_type": "code",
      "metadata": {
        "id": "2LmLTREBf5ng"
      },
      "source": [
        "import tensorflow as tf\n",
        "\n",
        "from tensorflow.keras.preprocessing.text import Tokenizer\n",
        "from tensorflow.keras.preprocessing.sequence import pad_sequences\n",
        "\n",
        "# Other imports for processing data\n",
        "import string\n",
        "import numpy as np\n",
        "import pandas as pd"
      ],
      "execution_count": 2,
      "outputs": []
    },
    {
      "cell_type": "markdown",
      "metadata": {
        "id": "GmLTO_dpgge9"
      },
      "source": [
        "## Get the Dataset\n",
        "\n",
        "As noted above, we'll utilize the [Song Lyrics dataset](https://www.kaggle.com/mousehead/songlyrics) on Kaggle again."
      ]
    },
    {
      "cell_type": "code",
      "metadata": {
        "id": "4Bf5FVHfganK",
        "outputId": "74a84a23-0c05-4f9f-fa2f-30927f541c96",
        "colab": {
          "base_uri": "https://localhost:8080/"
        }
      },
      "source": [
        "!wget --no-check-certificate \\\n",
        "    https://drive.google.com/uc?id=1LiJFZd41ofrWoBtW-pMYsfz1w8Ny0Bj8 \\\n",
        "    -O /tmp/songdata.csv"
      ],
      "execution_count": 3,
      "outputs": [
        {
          "output_type": "stream",
          "name": "stdout",
          "text": [
            "--2021-10-26 21:55:35--  https://drive.google.com/uc?id=1LiJFZd41ofrWoBtW-pMYsfz1w8Ny0Bj8\n",
            "Resolving drive.google.com (drive.google.com)... 142.250.128.139, 142.250.128.100, 142.250.128.102, ...\n",
            "Connecting to drive.google.com (drive.google.com)|142.250.128.139|:443... connected.\n",
            "HTTP request sent, awaiting response... 302 Moved Temporarily\n",
            "Location: https://doc-04-ak-docs.googleusercontent.com/docs/securesc/ha0ro937gcuc7l7deffksulhg5h7mbp1/bk1jkm29jdp88r67lfmlhaueohi4m53l/1635285300000/11118900490791463723/*/1LiJFZd41ofrWoBtW-pMYsfz1w8Ny0Bj8 [following]\n",
            "Warning: wildcards not supported in HTTP.\n",
            "--2021-10-26 21:55:36--  https://doc-04-ak-docs.googleusercontent.com/docs/securesc/ha0ro937gcuc7l7deffksulhg5h7mbp1/bk1jkm29jdp88r67lfmlhaueohi4m53l/1635285300000/11118900490791463723/*/1LiJFZd41ofrWoBtW-pMYsfz1w8Ny0Bj8\n",
            "Resolving doc-04-ak-docs.googleusercontent.com (doc-04-ak-docs.googleusercontent.com)... 142.250.136.132, 2607:f8b0:4001:c34::84\n",
            "Connecting to doc-04-ak-docs.googleusercontent.com (doc-04-ak-docs.googleusercontent.com)|142.250.136.132|:443... connected.\n",
            "HTTP request sent, awaiting response... 200 OK\n",
            "Length: 72436445 (69M) [text/csv]\n",
            "Saving to: ‘/tmp/songdata.csv’\n",
            "\n",
            "/tmp/songdata.csv   100%[===================>]  69.08M   174MB/s    in 0.4s    \n",
            "\n",
            "2021-10-26 21:55:37 (174 MB/s) - ‘/tmp/songdata.csv’ saved [72436445/72436445]\n",
            "\n"
          ]
        }
      ]
    },
    {
      "cell_type": "markdown",
      "metadata": {
        "id": "Jz9x-7dWihxx"
      },
      "source": [
        "## 250 Songs\n",
        "\n",
        "Now we've seen a model trained on just a small sample of songs, and how this often leads to repetition as you get further along in trying to generate new text. Let's switch to using the 250 songs instead, and see if our output improves. This will actually be nearly 10K lines of lyrics, which should be sufficient.\n",
        "\n",
        "Note that we won't use the full dataset here as it will take up quite a bit of RAM and processing time, but you're welcome to try doing so on your own later. If interested, you'll likely want to use only some of the more common words for the Tokenizer, which will help shrink processing time and memory needed (or else you'd have an output array hundreds of thousands of words long)."
      ]
    },
    {
      "cell_type": "markdown",
      "metadata": {
        "id": "nWbMN_19jfRT"
      },
      "source": [
        "### Preprocessing"
      ]
    },
    {
      "cell_type": "code",
      "metadata": {
        "id": "LRmPPJegovBe"
      },
      "source": [
        "def tokenize_corpus(corpus, num_words=-1):\n",
        "  # Fit a Tokenizer on the corpus\n",
        "  if num_words > -1:\n",
        "    tokenizer = Tokenizer(num_words=num_words)\n",
        "  else:\n",
        "    tokenizer = Tokenizer()\n",
        "  tokenizer.fit_on_texts(corpus)\n",
        "  return tokenizer\n",
        "\n",
        "def create_lyrics_corpus(dataset, field):\n",
        "  # Remove all other punctuation\n",
        "  dataset[field] = dataset[field].str.replace('[{}]'.format(string.punctuation), '')\n",
        "  # Make it lowercase\n",
        "  dataset[field] = dataset[field].str.lower()\n",
        "  # Make it one long string to split by line\n",
        "  lyrics = dataset[field].str.cat()\n",
        "  corpus = lyrics.split('\\n')\n",
        "  # Remove any trailing whitespace\n",
        "  for l in range(len(corpus)):\n",
        "    corpus[l] = corpus[l].rstrip()\n",
        "  # Remove any empty lines\n",
        "  corpus = [l for l in corpus if l != '']\n",
        "\n",
        "  return corpus"
      ],
      "execution_count": 4,
      "outputs": []
    },
    {
      "cell_type": "code",
      "metadata": {
        "id": "kIGedF3XjHj4",
        "outputId": "4dae33c0-04dc-45db-e698-90168c5bbe70",
        "colab": {
          "base_uri": "https://localhost:8080/"
        }
      },
      "source": [
        "def tokenize_corpus(corpus, num_words=-1):\n",
        "  # Fit a Tokenizer on the corpus\n",
        "  if num_words > -1:\n",
        "    tokenizer = Tokenizer(num_words=num_words)\n",
        "  else:\n",
        "    tokenizer = Tokenizer()\n",
        "  tokenizer.fit_on_texts(corpus)\n",
        "  return tokenizer\n",
        "\n",
        "# Read the dataset from csv - this time with 250 songs\n",
        "dataset = pd.read_csv('/tmp/songdata.csv', dtype=str)[:250]\n",
        "# Create the corpus using the 'text' column containing lyrics\n",
        "corpus = create_lyrics_corpus(dataset, 'text')\n",
        "# Tokenize the corpus\n",
        "tokenizer = tokenize_corpus(corpus, num_words=2000)\n",
        "total_words = tokenizer.num_words\n",
        "\n",
        "# There should be a lot more words now\n",
        "print(total_words)"
      ],
      "execution_count": 5,
      "outputs": [
        {
          "output_type": "stream",
          "name": "stdout",
          "text": [
            "2000\n"
          ]
        },
        {
          "output_type": "stream",
          "name": "stderr",
          "text": [
            "/usr/local/lib/python3.7/dist-packages/ipykernel_launcher.py:12: SettingWithCopyWarning: \n",
            "A value is trying to be set on a copy of a slice from a DataFrame.\n",
            "Try using .loc[row_indexer,col_indexer] = value instead\n",
            "\n",
            "See the caveats in the documentation: https://pandas.pydata.org/pandas-docs/stable/user_guide/indexing.html#returning-a-view-versus-a-copy\n",
            "  if sys.path[0] == '':\n"
          ]
        }
      ]
    },
    {
      "cell_type": "markdown",
      "metadata": {
        "id": "quoDmw_FkNBA"
      },
      "source": [
        "### Create Sequences and Labels"
      ]
    },
    {
      "cell_type": "code",
      "metadata": {
        "id": "kkLAf3HmkPSo"
      },
      "source": [
        "sequences = []\n",
        "for line in corpus:\n",
        "\ttoken_list = tokenizer.texts_to_sequences([line])[0]\n",
        "\tfor i in range(1, len(token_list)):\n",
        "\t\tn_gram_sequence = token_list[:i+1]\n",
        "\t\tsequences.append(n_gram_sequence)\n",
        "\n",
        "# Pad sequences for equal input length \n",
        "max_sequence_len = max([len(seq) for seq in sequences])\n",
        "sequences = np.array(pad_sequences(sequences, maxlen=max_sequence_len, padding='pre'))\n",
        "\n",
        "# Split sequences between the \"input\" sequence and \"output\" predicted word\n",
        "input_sequences, labels = sequences[:,:-1], sequences[:,-1]\n",
        "# One-hot encode the labels\n",
        "one_hot_labels = tf.keras.utils.to_categorical(labels, num_classes=total_words)"
      ],
      "execution_count": 6,
      "outputs": []
    },
    {
      "cell_type": "markdown",
      "metadata": {
        "id": "cECbqT-blMk-"
      },
      "source": [
        "### Train a (Better) Text Generation Model\n",
        "\n",
        "With more data, we'll cut off after 100 epochs to avoid keeping you here all day. You'll also want to change your runtime type to GPU if you haven't already (you'll need to re-run the above cells if you change runtimes)."
      ]
    },
    {
      "cell_type": "code",
      "metadata": {
        "id": "7nHOp6uWlP_P",
        "outputId": "40712297-a12c-41a5-ea38-a27913d39820",
        "colab": {
          "base_uri": "https://localhost:8080/"
        }
      },
      "source": [
        "from tensorflow.keras.models import Sequential\n",
        "from tensorflow.keras.layers import Embedding, LSTM, Dense, Bidirectional\n",
        "\n",
        "model = Sequential()\n",
        "model.add(Embedding(total_words, 64, input_length=max_sequence_len-1))\n",
        "model.add(Bidirectional(LSTM(20)))\n",
        "model.add(Dense(total_words, activation='softmax'))\n",
        "model.compile(loss='categorical_crossentropy', optimizer='adam', metrics=['accuracy'])\n",
        "history = model.fit(input_sequences, one_hot_labels, epochs=100, verbose=1)"
      ],
      "execution_count": 7,
      "outputs": [
        {
          "output_type": "stream",
          "name": "stdout",
          "text": [
            "Epoch 1/100\n",
            "1480/1480 [==============================] - 27s 12ms/step - loss: 5.9800 - accuracy: 0.0459\n",
            "Epoch 2/100\n",
            "1480/1480 [==============================] - 19s 13ms/step - loss: 5.6575 - accuracy: 0.0523\n",
            "Epoch 3/100\n",
            "1480/1480 [==============================] - 18s 12ms/step - loss: 5.4537 - accuracy: 0.0727\n",
            "Epoch 4/100\n",
            "1480/1480 [==============================] - 18s 12ms/step - loss: 5.2333 - accuracy: 0.0993\n",
            "Epoch 5/100\n",
            "1480/1480 [==============================] - 18s 12ms/step - loss: 5.0405 - accuracy: 0.1185\n",
            "Epoch 6/100\n",
            "1480/1480 [==============================] - 18s 12ms/step - loss: 4.8733 - accuracy: 0.1381\n",
            "Epoch 7/100\n",
            "1480/1480 [==============================] - 18s 12ms/step - loss: 4.7313 - accuracy: 0.1531\n",
            "Epoch 8/100\n",
            "1480/1480 [==============================] - 18s 12ms/step - loss: 4.5975 - accuracy: 0.1678\n",
            "Epoch 9/100\n",
            "1480/1480 [==============================] - 18s 12ms/step - loss: 4.4683 - accuracy: 0.1831\n",
            "Epoch 10/100\n",
            "1480/1480 [==============================] - 19s 13ms/step - loss: 4.3510 - accuracy: 0.1964\n",
            "Epoch 11/100\n",
            "1480/1480 [==============================] - 18s 12ms/step - loss: 4.2466 - accuracy: 0.2083\n",
            "Epoch 12/100\n",
            "1480/1480 [==============================] - 18s 12ms/step - loss: 4.1520 - accuracy: 0.2205\n",
            "Epoch 13/100\n",
            "1480/1480 [==============================] - 19s 13ms/step - loss: 4.0689 - accuracy: 0.2292\n",
            "Epoch 14/100\n",
            "1480/1480 [==============================] - 19s 13ms/step - loss: 3.9892 - accuracy: 0.2398\n",
            "Epoch 15/100\n",
            "1480/1480 [==============================] - 19s 13ms/step - loss: 3.9142 - accuracy: 0.2492\n",
            "Epoch 16/100\n",
            "1480/1480 [==============================] - 19s 13ms/step - loss: 3.8488 - accuracy: 0.2582\n",
            "Epoch 17/100\n",
            "1480/1480 [==============================] - 18s 12ms/step - loss: 3.7867 - accuracy: 0.2663\n",
            "Epoch 18/100\n",
            "1480/1480 [==============================] - 18s 12ms/step - loss: 3.7246 - accuracy: 0.2745\n",
            "Epoch 19/100\n",
            "1480/1480 [==============================] - 19s 13ms/step - loss: 3.6771 - accuracy: 0.2812\n",
            "Epoch 20/100\n",
            "1480/1480 [==============================] - 19s 13ms/step - loss: 3.6258 - accuracy: 0.2881\n",
            "Epoch 21/100\n",
            "1480/1480 [==============================] - 19s 13ms/step - loss: 3.5769 - accuracy: 0.2946\n",
            "Epoch 22/100\n",
            "1480/1480 [==============================] - 19s 13ms/step - loss: 3.5264 - accuracy: 0.3020\n",
            "Epoch 23/100\n",
            "1480/1480 [==============================] - 19s 13ms/step - loss: 3.4831 - accuracy: 0.3084\n",
            "Epoch 24/100\n",
            "1480/1480 [==============================] - 19s 13ms/step - loss: 3.4425 - accuracy: 0.3157\n",
            "Epoch 25/100\n",
            "1480/1480 [==============================] - 19s 13ms/step - loss: 3.4003 - accuracy: 0.3220\n",
            "Epoch 26/100\n",
            "1480/1480 [==============================] - 19s 13ms/step - loss: 3.3663 - accuracy: 0.3270\n",
            "Epoch 27/100\n",
            "1480/1480 [==============================] - 19s 13ms/step - loss: 3.3276 - accuracy: 0.3333\n",
            "Epoch 28/100\n",
            "1480/1480 [==============================] - 19s 13ms/step - loss: 3.2948 - accuracy: 0.3389\n",
            "Epoch 29/100\n",
            "1480/1480 [==============================] - 19s 13ms/step - loss: 3.2573 - accuracy: 0.3453\n",
            "Epoch 30/100\n",
            "1480/1480 [==============================] - 19s 13ms/step - loss: 3.2299 - accuracy: 0.3496\n",
            "Epoch 31/100\n",
            "1480/1480 [==============================] - 19s 13ms/step - loss: 3.1965 - accuracy: 0.3552\n",
            "Epoch 32/100\n",
            "1480/1480 [==============================] - 19s 13ms/step - loss: 3.1699 - accuracy: 0.3588\n",
            "Epoch 33/100\n",
            "1480/1480 [==============================] - 19s 13ms/step - loss: 3.1405 - accuracy: 0.3636\n",
            "Epoch 34/100\n",
            "1480/1480 [==============================] - 19s 13ms/step - loss: 3.1168 - accuracy: 0.3661\n",
            "Epoch 35/100\n",
            "1480/1480 [==============================] - 19s 13ms/step - loss: 3.0884 - accuracy: 0.3721\n",
            "Epoch 36/100\n",
            "1480/1480 [==============================] - 19s 13ms/step - loss: 3.0716 - accuracy: 0.3734\n",
            "Epoch 37/100\n",
            "1480/1480 [==============================] - 19s 13ms/step - loss: 3.0377 - accuracy: 0.3788\n",
            "Epoch 38/100\n",
            "1480/1480 [==============================] - 19s 13ms/step - loss: 3.0171 - accuracy: 0.3832\n",
            "Epoch 39/100\n",
            "1480/1480 [==============================] - 19s 13ms/step - loss: 3.0025 - accuracy: 0.3838\n",
            "Epoch 40/100\n",
            "1480/1480 [==============================] - 19s 13ms/step - loss: 2.9746 - accuracy: 0.3894\n",
            "Epoch 41/100\n",
            "1480/1480 [==============================] - 19s 13ms/step - loss: 2.9586 - accuracy: 0.3915\n",
            "Epoch 42/100\n",
            "1480/1480 [==============================] - 19s 13ms/step - loss: 2.9338 - accuracy: 0.3950\n",
            "Epoch 43/100\n",
            "1480/1480 [==============================] - 19s 13ms/step - loss: 2.9136 - accuracy: 0.3985\n",
            "Epoch 44/100\n",
            "1480/1480 [==============================] - 19s 13ms/step - loss: 2.9006 - accuracy: 0.3996\n",
            "Epoch 45/100\n",
            "1480/1480 [==============================] - 19s 13ms/step - loss: 2.8753 - accuracy: 0.4043\n",
            "Epoch 46/100\n",
            "1480/1480 [==============================] - 19s 13ms/step - loss: 2.8638 - accuracy: 0.4050\n",
            "Epoch 47/100\n",
            "1480/1480 [==============================] - 19s 13ms/step - loss: 2.8394 - accuracy: 0.4106\n",
            "Epoch 48/100\n",
            "1480/1480 [==============================] - 19s 13ms/step - loss: 2.8260 - accuracy: 0.4139\n",
            "Epoch 49/100\n",
            "1480/1480 [==============================] - 19s 13ms/step - loss: 2.8028 - accuracy: 0.4163\n",
            "Epoch 50/100\n",
            "1480/1480 [==============================] - 19s 13ms/step - loss: 2.7950 - accuracy: 0.4173\n",
            "Epoch 51/100\n",
            "1480/1480 [==============================] - 19s 13ms/step - loss: 2.7763 - accuracy: 0.4196\n",
            "Epoch 52/100\n",
            "1480/1480 [==============================] - 19s 13ms/step - loss: 2.7694 - accuracy: 0.4217\n",
            "Epoch 53/100\n",
            "1480/1480 [==============================] - 19s 13ms/step - loss: 2.7485 - accuracy: 0.4258\n",
            "Epoch 54/100\n",
            "1480/1480 [==============================] - 19s 13ms/step - loss: 2.7366 - accuracy: 0.4297\n",
            "Epoch 55/100\n",
            "1480/1480 [==============================] - 19s 13ms/step - loss: 2.7171 - accuracy: 0.4312\n",
            "Epoch 56/100\n",
            "1480/1480 [==============================] - 19s 13ms/step - loss: 2.7104 - accuracy: 0.4328\n",
            "Epoch 57/100\n",
            "1480/1480 [==============================] - 19s 13ms/step - loss: 2.7005 - accuracy: 0.4355\n",
            "Epoch 58/100\n",
            "1480/1480 [==============================] - 19s 13ms/step - loss: 2.6732 - accuracy: 0.4397\n",
            "Epoch 59/100\n",
            "1480/1480 [==============================] - 19s 13ms/step - loss: 2.6568 - accuracy: 0.4425\n",
            "Epoch 60/100\n",
            "1480/1480 [==============================] - 19s 13ms/step - loss: 2.6503 - accuracy: 0.4428\n",
            "Epoch 61/100\n",
            "1480/1480 [==============================] - 19s 13ms/step - loss: 2.6390 - accuracy: 0.4448\n",
            "Epoch 62/100\n",
            "1480/1480 [==============================] - 19s 13ms/step - loss: 2.6259 - accuracy: 0.4466\n",
            "Epoch 63/100\n",
            "1480/1480 [==============================] - 19s 13ms/step - loss: 2.6203 - accuracy: 0.4480\n",
            "Epoch 64/100\n",
            "1480/1480 [==============================] - 19s 13ms/step - loss: 2.6130 - accuracy: 0.4501\n",
            "Epoch 65/100\n",
            "1480/1480 [==============================] - 19s 13ms/step - loss: 2.5960 - accuracy: 0.4536\n",
            "Epoch 66/100\n",
            "1480/1480 [==============================] - 19s 13ms/step - loss: 2.5819 - accuracy: 0.4541\n",
            "Epoch 67/100\n",
            "1480/1480 [==============================] - 19s 13ms/step - loss: 2.5702 - accuracy: 0.4580\n",
            "Epoch 68/100\n",
            "1480/1480 [==============================] - 19s 13ms/step - loss: 2.5650 - accuracy: 0.4585\n",
            "Epoch 69/100\n",
            "1480/1480 [==============================] - 19s 13ms/step - loss: 2.5538 - accuracy: 0.4610\n",
            "Epoch 70/100\n",
            "1480/1480 [==============================] - 19s 13ms/step - loss: 2.5408 - accuracy: 0.4622\n",
            "Epoch 71/100\n",
            "1480/1480 [==============================] - 19s 13ms/step - loss: 2.5366 - accuracy: 0.4633\n",
            "Epoch 72/100\n",
            "1480/1480 [==============================] - 19s 13ms/step - loss: 2.5303 - accuracy: 0.4645\n",
            "Epoch 73/100\n",
            "1480/1480 [==============================] - 19s 13ms/step - loss: 2.5167 - accuracy: 0.4674\n",
            "Epoch 74/100\n",
            "1480/1480 [==============================] - 19s 13ms/step - loss: 2.5033 - accuracy: 0.4708\n",
            "Epoch 75/100\n",
            "1480/1480 [==============================] - 19s 13ms/step - loss: 2.4994 - accuracy: 0.4702\n",
            "Epoch 76/100\n",
            "1480/1480 [==============================] - 19s 13ms/step - loss: 2.4903 - accuracy: 0.4712\n",
            "Epoch 77/100\n",
            "1480/1480 [==============================] - 19s 13ms/step - loss: 2.4754 - accuracy: 0.4742\n",
            "Epoch 78/100\n",
            "1480/1480 [==============================] - 19s 13ms/step - loss: 2.4670 - accuracy: 0.4761\n",
            "Epoch 79/100\n",
            "1480/1480 [==============================] - 19s 13ms/step - loss: 2.4650 - accuracy: 0.4756\n",
            "Epoch 80/100\n",
            "1480/1480 [==============================] - 19s 13ms/step - loss: 2.4542 - accuracy: 0.4791\n",
            "Epoch 81/100\n",
            "1480/1480 [==============================] - 19s 13ms/step - loss: 2.4435 - accuracy: 0.4794\n",
            "Epoch 82/100\n",
            "1480/1480 [==============================] - 19s 13ms/step - loss: 2.4398 - accuracy: 0.4802\n",
            "Epoch 83/100\n",
            "1480/1480 [==============================] - 19s 13ms/step - loss: 2.4447 - accuracy: 0.4802\n",
            "Epoch 84/100\n",
            "1480/1480 [==============================] - 19s 13ms/step - loss: 2.4201 - accuracy: 0.4841\n",
            "Epoch 85/100\n",
            "1480/1480 [==============================] - 19s 13ms/step - loss: 2.4057 - accuracy: 0.4871\n",
            "Epoch 86/100\n",
            "1480/1480 [==============================] - 19s 13ms/step - loss: 2.3959 - accuracy: 0.4878\n",
            "Epoch 87/100\n",
            "1480/1480 [==============================] - 19s 13ms/step - loss: 2.3987 - accuracy: 0.4878\n",
            "Epoch 88/100\n",
            "1480/1480 [==============================] - 19s 13ms/step - loss: 2.3833 - accuracy: 0.4905\n",
            "Epoch 89/100\n",
            "1480/1480 [==============================] - 19s 13ms/step - loss: 2.4154 - accuracy: 0.4841\n",
            "Epoch 90/100\n",
            "1480/1480 [==============================] - 19s 13ms/step - loss: 2.3953 - accuracy: 0.4873\n",
            "Epoch 91/100\n",
            "1480/1480 [==============================] - 19s 13ms/step - loss: 2.3692 - accuracy: 0.4935\n",
            "Epoch 92/100\n",
            "1480/1480 [==============================] - 19s 13ms/step - loss: 2.3547 - accuracy: 0.4969\n",
            "Epoch 93/100\n",
            "1480/1480 [==============================] - 19s 13ms/step - loss: 2.3533 - accuracy: 0.4953\n",
            "Epoch 94/100\n",
            "1480/1480 [==============================] - 19s 13ms/step - loss: 2.3702 - accuracy: 0.4918\n",
            "Epoch 95/100\n",
            "1480/1480 [==============================] - 19s 13ms/step - loss: 2.3611 - accuracy: 0.4935\n",
            "Epoch 96/100\n",
            "1480/1480 [==============================] - 19s 13ms/step - loss: 2.3312 - accuracy: 0.4993\n",
            "Epoch 97/100\n",
            "1480/1480 [==============================] - 19s 13ms/step - loss: 2.3278 - accuracy: 0.5004\n",
            "Epoch 98/100\n",
            "1480/1480 [==============================] - 19s 13ms/step - loss: 2.3199 - accuracy: 0.5013\n",
            "Epoch 99/100\n",
            "1480/1480 [==============================] - 19s 13ms/step - loss: 2.3091 - accuracy: 0.5028\n",
            "Epoch 100/100\n",
            "1480/1480 [==============================] - 19s 13ms/step - loss: 2.3071 - accuracy: 0.5052\n"
          ]
        }
      ]
    },
    {
      "cell_type": "markdown",
      "metadata": {
        "id": "MgvIz20nlQcq"
      },
      "source": [
        "### View the Training Graph"
      ]
    },
    {
      "cell_type": "code",
      "metadata": {
        "id": "rOqmmarvlSLh",
        "outputId": "3d1f6c57-e3c5-4c2b-afd3-a5e63534c9f0",
        "colab": {
          "base_uri": "https://localhost:8080/",
          "height": 279
        }
      },
      "source": [
        "import matplotlib.pyplot as plt\n",
        "\n",
        "def plot_graphs(history, string):\n",
        "  plt.plot(history.history[string])\n",
        "  plt.xlabel(\"Epochs\")\n",
        "  plt.ylabel(string)\n",
        "  plt.show()\n",
        "\n",
        "plot_graphs(history, 'accuracy')"
      ],
      "execution_count": 8,
      "outputs": [
        {
          "output_type": "display_data",
          "data": {
            "image/png": "[encoded data removed]",
            "text/plain": [
              "<Figure size 432x288 with 1 Axes>"
            ]
          },
          "metadata": {
            "needs_background": "light"
          }
        }
      ]
    },
    {
      "cell_type": "markdown",
      "metadata": {
        "id": "ISLZZGlQlSxh"
      },
      "source": [
        "### Generate better lyrics!\n",
        "\n",
        "This time around, we should be able to get a more interesting output with less repetition."
      ]
    },
    {
      "cell_type": "code",
      "metadata": {
        "id": "P96oVMk3lU7y",
        "outputId": "e1659707-356d-4e68-ad12-64f66e884e34",
        "colab": {
          "base_uri": "https://localhost:8080/"
        }
      },
      "source": [
        "seed_text = \"im feeling chills\"\n",
        "next_words = 100\n",
        "  \n",
        "for _ in range(next_words):\n",
        "\ttoken_list = tokenizer.texts_to_sequences([seed_text])[0]\n",
        "\ttoken_list = pad_sequences([token_list], maxlen=max_sequence_len-1, padding='pre')\n",
        "\tpredicted = np.argmax(model.predict(token_list), axis=-1)\n",
        "\toutput_word = \"\"\n",
        "\tfor word, index in tokenizer.word_index.items():\n",
        "\t\tif index == predicted:\n",
        "\t\t\toutput_word = word\n",
        "\t\t\tbreak\n",
        "\tseed_text += \" \" + output_word\n",
        "print(seed_text)"
      ],
      "execution_count": 9,
      "outputs": [
        {
          "output_type": "stream",
          "name": "stdout",
          "text": [
            "im feeling chills me tonight is just a star and all bay and tails you son of me anywhere chance chance help me all day for daddy kiss stone cool write jet outside queen heal sight new mind laughter of rain short your bar in time youre sorry matter tearing fail die cried matter matter for trip fiddle twist rikky til fire stood treasure whom whom heal gain heal wants beggin you mean to still honey is me bumble laah me get it bumble queen dark and for me apart in going away a in going in his girl in the attic lights\n"
          ]
        }
      ]
    },
    {
      "cell_type": "markdown",
      "metadata": {
        "id": "upgJKV8_oRU9"
      },
      "source": [
        "### Varying the Possible Outputs\n",
        "\n",
        "In running the above, you may notice that the same seed text will generate similar outputs. This is because the code is currently always choosing the top predicted class as the next word. What if you wanted more variance in the output? \n",
        "\n",
        "Switching from `model.predict_classes` to `model.predict_proba` will get us all of the class probabilities. We can combine this with `np.random.choice` to select a given predicted output based on a probability, thereby giving a bit more randomness to our outputs."
      ]
    },
    {
      "cell_type": "code",
      "metadata": {
        "id": "lZe9gaJeoGVP",
        "outputId": "3cceb206-189f-40c6-9aa5-f611b233184c",
        "colab": {
          "base_uri": "https://localhost:8080/"
        }
      },
      "source": [
        "# Test the method with just the first word after the seed text\n",
        "seed_text = \"im feeling chills\"\n",
        "next_words = 100\n",
        "  \n",
        "token_list = tokenizer.texts_to_sequences([seed_text])[0]\n",
        "token_list = pad_sequences([token_list], maxlen=max_sequence_len-1, padding='pre')\n",
        "predicted_probs = model.predict(token_list)[0]\n",
        "predicted = np.random.choice([x for x in range(len(predicted_probs))], \n",
        "                             p=predicted_probs)\n",
        "# Running this cell multiple times should get you some variance in output\n",
        "print(predicted)"
      ],
      "execution_count": 10,
      "outputs": [
        {
          "output_type": "stream",
          "name": "stdout",
          "text": [
            "7\n"
          ]
        }
      ]
    },
    {
      "cell_type": "code",
      "metadata": {
        "id": "ee7WKgRGrJy1",
        "outputId": "6c96a2ab-9cef-4161-9e30-3c170dea82f2",
        "colab": {
          "base_uri": "https://localhost:8080/"
        }
      },
      "source": [
        "# Use this process for the full output generation\n",
        "seed_text = \"im feeling chills\"\n",
        "next_words = 100\n",
        "  \n",
        "for _ in range(next_words):\n",
        "  token_list = tokenizer.texts_to_sequences([seed_text])[0]\n",
        "  token_list = pad_sequences([token_list], maxlen=max_sequence_len-1, padding='pre')\n",
        "  predicted_probs = model.predict(token_list)[0]\n",
        "  predicted = np.random.choice([x for x in range(len(predicted_probs))],\n",
        "                               p=predicted_probs)\n",
        "  output_word = \"\"\n",
        "  for word, index in tokenizer.word_index.items():\n",
        "    if index == predicted:\n",
        "      output_word = word\n",
        "      break\n",
        "  seed_text += \" \" + output_word\n",
        "print(seed_text)"
      ],
      "execution_count": 11,
      "outputs": [
        {
          "output_type": "stream",
          "name": "stdout",
          "text": [
            "im feeling chills me just lights go down lights all sure i really need kong will let me get and not me daylight on the same again but i i talk she sees but its time things more me thrill me playground huh touch but you rest gain fireplace easy town excite houses is ours take begin to my heart ive done cause the bluest of fire sweet devotions that all life around smokin fantasy but you gotta leave your dreams times im one another this fancy dont kissin youll show give that there are gimme more kisses saw cried gain mental beach\n"
          ]
        }
      ]
    }
  ]
}