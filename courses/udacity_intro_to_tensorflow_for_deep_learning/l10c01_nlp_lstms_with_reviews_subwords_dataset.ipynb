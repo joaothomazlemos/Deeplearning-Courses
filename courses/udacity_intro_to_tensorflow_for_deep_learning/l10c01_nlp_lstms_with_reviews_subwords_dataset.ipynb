{
  "nbformat": 4,
  "nbformat_minor": 0,
  "metadata": {
    "accelerator": "GPU",
    "colab": {
      "name": "l10c01_nlp_lstms_with_reviews_subwords_dataset.ipynb",
      "provenance": [],
      "toc_visible": true
    },
    "kernelspec": {
      "display_name": "Python 3",
      "name": "python3"
    }
  },
  "cells": [
    {
      "cell_type": "markdown",
      "metadata": {
        "id": "punL79CN7Ox6"
      },
      "source": [
        "##### Copyright 2020 The TensorFlow Authors."
      ]
    },
    {
      "cell_type": "code",
      "metadata": {
        "cellView": "form",
        "id": "_ckMIh7O7s6D"
      },
      "source": [
        "#@title Licensed under the Apache License, Version 2.0 (the \"License\");\n",
        "# you may not use this file except in compliance with the License.\n",
        "# You may obtain a copy of the License at\n",
        "#\n",
        "# https://www.apache.org/licenses/LICENSE-2.0\n",
        "#\n",
        "# Unless required by applicable law or agreed to in writing, software\n",
        "# distributed under the License is distributed on an \"AS IS\" BASIS,\n",
        "# WITHOUT WARRANTIES OR CONDITIONS OF ANY KIND, either express or implied.\n",
        "# See the License for the specific language governing permissions and\n",
        "# limitations under the License."
      ],
      "execution_count": null,
      "outputs": []
    },
    {
      "cell_type": "markdown",
      "metadata": {
        "id": "hAclqSm3OOml"
      },
      "source": [
        "# Using LSTMs with the subwords dataset\n"
      ]
    },
    {
      "cell_type": "markdown",
      "metadata": {
        "id": "S5Uhzt6vVIB2"
      },
      "source": [
        "<table class=\"tfo-notebook-buttons\" align=\"left\">\n",
        "  <td>\n",
        "    <a target=\"_blank\" href=\"https://colab.research.google.com/github/tensorflow/examples/blob/master/courses/udacity_intro_to_tensorflow_for_deep_learning/l10c01_nlp_lstms_with_reviews_subwords_dataset.ipynb\"><img src=\"https://www.tensorflow.org/images/colab_logo_32px.png\" />Run in Google Colab</a>\n",
        "  </td>\n",
        "  <td>\n",
        "    <a target=\"_blank\" href=\"https://github.com/tensorflow/examples/blob/master/courses/udacity_intro_to_tensorflow_for_deep_learning/l10c01_nlp_lstms_with_reviews_subwords_dataset.ipynb\"><img src=\"https://www.tensorflow.org/images/GitHub-Mark-32px.png\" />View source on GitHub</a>\n",
        "  </td>\n",
        "</table>"
      ]
    },
    {
      "cell_type": "markdown",
      "metadata": {
        "id": "KTVx8__oGR9J"
      },
      "source": [
        "In this colab, you'll compare the results of using a model with an Embedding layer and then adding bidirectional LSTM layers.\n",
        "\n",
        "You'll work with the dataset of subwords for the combined Yelp and Amazon reviews.\n",
        "\n",
        "You'll use your models to predict the sentiment of new reviews."
      ]
    },
    {
      "cell_type": "code",
      "metadata": {
        "id": "L62G7LTwNzoD"
      },
      "source": [
        "import tensorflow as tf\n",
        "\n",
        "from tensorflow.keras.preprocessing.sequence import pad_sequences"
      ],
      "execution_count": 1,
      "outputs": []
    },
    {
      "cell_type": "markdown",
      "metadata": {
        "id": "hLcl0QHvDjTV"
      },
      "source": [
        "# Get the dataset\n",
        "\n",
        "Start by getting the dataset containing Amazon and Yelp reviews, with their related sentiment (1 for positive, 0 for negative). This dataset was originally extracted from [here](https://www.kaggle.com/marklvl/sentiment-labelled-sentences-data-set).\n"
      ]
    },
    {
      "cell_type": "code",
      "metadata": {
        "id": "nCOtiRJZbxCH",
        "outputId": "c38e5be1-b34d-46bc-85f6-a362bc815fe3",
        "colab": {
          "base_uri": "https://localhost:8080/"
        }
      },
      "source": [
        "!wget --no-check-certificate \\\n",
        "    https://drive.google.com/uc?id=13ySLC_ue6Umt9RJYSeM2t-V0kCv-4C-P -O /tmp/sentiment.csv"
      ],
      "execution_count": 2,
      "outputs": [
        {
          "output_type": "stream",
          "name": "stdout",
          "text": [
            "--2021-10-26 20:42:14--  https://drive.google.com/uc?id=13ySLC_ue6Umt9RJYSeM2t-V0kCv-4C-P\n",
            "Resolving drive.google.com (drive.google.com)... 142.250.152.101, 142.250.152.139, 142.250.152.102, ...\n",
            "Connecting to drive.google.com (drive.google.com)|142.250.152.101|:443... connected.\n",
            "HTTP request sent, awaiting response... 302 Moved Temporarily\n",
            "Location: https://doc-08-ak-docs.googleusercontent.com/docs/securesc/ha0ro937gcuc7l7deffksulhg5h7mbp1/rva21moap8fo10i481l5ubdi0d818o8c/1635280875000/11118900490791463723/*/13ySLC_ue6Umt9RJYSeM2t-V0kCv-4C-P [following]\n",
            "Warning: wildcards not supported in HTTP.\n",
            "--2021-10-26 20:42:14--  https://doc-08-ak-docs.googleusercontent.com/docs/securesc/ha0ro937gcuc7l7deffksulhg5h7mbp1/rva21moap8fo10i481l5ubdi0d818o8c/1635280875000/11118900490791463723/*/13ySLC_ue6Umt9RJYSeM2t-V0kCv-4C-P\n",
            "Resolving doc-08-ak-docs.googleusercontent.com (doc-08-ak-docs.googleusercontent.com)... 64.233.182.132, 2607:f8b0:4001:c0a::84\n",
            "Connecting to doc-08-ak-docs.googleusercontent.com (doc-08-ak-docs.googleusercontent.com)|64.233.182.132|:443... connected.\n",
            "HTTP request sent, awaiting response... 200 OK\n",
            "Length: 127831 (125K) [text/csv]\n",
            "Saving to: ‘/tmp/sentiment.csv’\n",
            "\n",
            "/tmp/sentiment.csv  100%[===================>] 124.83K  --.-KB/s    in 0.003s  \n",
            "\n",
            "2021-10-26 20:42:15 (40.9 MB/s) - ‘/tmp/sentiment.csv’ saved [127831/127831]\n",
            "\n"
          ]
        }
      ]
    },
    {
      "cell_type": "code",
      "metadata": {
        "id": "XuqER_KMD-xS"
      },
      "source": [
        "import pandas as pd\n",
        "\n",
        "dataset = pd.read_csv('/tmp/sentiment.csv')\n",
        "\n",
        "# Extract out sentences and labels\n",
        "sentences = dataset['text'].tolist()\n",
        "labels = dataset['sentiment'].tolist()"
      ],
      "execution_count": 3,
      "outputs": []
    },
    {
      "cell_type": "code",
      "metadata": {
        "id": "Tbsx1T2CXPNO",
        "outputId": "4eac9a69-dd39-4ddc-d5a9-fde60e64c85b",
        "colab": {
          "base_uri": "https://localhost:8080/"
        }
      },
      "source": [
        "# Print some example sentences and labels\n",
        "for x in range(2):\n",
        "  print(sentences[x])\n",
        "  print(labels[x])\n",
        "  print(\"\\n\")"
      ],
      "execution_count": 4,
      "outputs": [
        {
          "output_type": "stream",
          "name": "stdout",
          "text": [
            "So there is no way for me to plug it in here in the US unless I go by a converter.\n",
            "0\n",
            "\n",
            "\n",
            "Good case Excellent value.\n",
            "1\n",
            "\n",
            "\n"
          ]
        }
      ]
    },
    {
      "cell_type": "markdown",
      "metadata": {
        "id": "33AthPiALFZK"
      },
      "source": [
        "#Create a subwords dataset\n",
        "\n",
        "We will use the Amazon and Yelp reviews dataset with tensorflow_datasets's SubwordTextEncoder functionality. \n",
        "\n",
        "SubwordTextEncoder.build_from_corpus() will create a tokenizer for us. You could also use this functionality to get subwords from a much larger corpus of text as well, but we'll just use our existing dataset here.\n",
        "\n",
        "We'll create a subword vocab_size of only the 1,000 most common subwords, as well as cutting off each subword to be at most 5 characters.\n",
        "\n",
        "Check out the related documentation for the the subword text encoder [here](https://www.tensorflow.org/datasets/api_docs/python/tfds/features/text/SubwordTextEncoder#build_from_corpus)."
      ]
    },
    {
      "cell_type": "code",
      "metadata": {
        "id": "6NaicNCcLYyf",
        "outputId": "d11c6d78-ef92-456a-c63f-53b82cb9c633",
        "colab": {
          "base_uri": "https://localhost:8080/"
        }
      },
      "source": [
        "import tensorflow_datasets as tfds\n",
        "\n",
        "vocab_size = 1000\n",
        "tokenizer = tfds.deprecated.text.SubwordTextEncoder.build_from_corpus(sentences, vocab_size, max_subword_length=5)\n",
        "\n",
        "# How big is the vocab size?\n",
        "print(\"Vocab size is \", tokenizer.vocab_size)"
      ],
      "execution_count": 5,
      "outputs": [
        {
          "output_type": "stream",
          "name": "stdout",
          "text": [
            "Vocab size is  999\n"
          ]
        }
      ]
    },
    {
      "cell_type": "code",
      "metadata": {
        "id": "xvRVoeIVLevh",
        "outputId": "faa7417c-d950-4fe8-832b-18f421a921c1",
        "colab": {
          "base_uri": "https://localhost:8080/"
        }
      },
      "source": [
        "# Check that the tokenizer works appropriately\n",
        "num = 5\n",
        "print(sentences[num])\n",
        "encoded = tokenizer.encode(sentences[num])\n",
        "print(encoded)"
      ],
      "execution_count": 6,
      "outputs": [
        {
          "output_type": "stream",
          "name": "stdout",
          "text": [
            "I have to jiggle the plug to get it to line up right to get decent volume.\n",
            "[4, 31, 6, 849, 162, 450, 12, 1, 600, 438, 775, 6, 175, 14, 6, 55, 213, 159, 474, 775, 6, 175, 614, 380, 295, 148, 72, 789]\n"
          ]
        }
      ]
    },
    {
      "cell_type": "code",
      "metadata": {
        "id": "G_vacTCifklV",
        "outputId": "54bfd549-8952-4eeb-b7d3-0402181af79d",
        "colab": {
          "base_uri": "https://localhost:8080/"
        }
      },
      "source": [
        "# Separately print out each subword, decoded\n",
        "for i in encoded:\n",
        "  print(tokenizer.decode([i]))"
      ],
      "execution_count": 7,
      "outputs": [
        {
          "output_type": "stream",
          "name": "stdout",
          "text": [
            "I \n",
            "have \n",
            "to \n",
            "j\n",
            "ig\n",
            "gl\n",
            "e \n",
            "the \n",
            "pl\n",
            "ug\n",
            " \n",
            "to \n",
            "get \n",
            "it \n",
            "to \n",
            "li\n",
            "ne \n",
            "up \n",
            "right\n",
            " \n",
            "to \n",
            "get \n",
            "dec\n",
            "ent \n",
            "vo\n",
            "lu\n",
            "me\n",
            ".\n"
          ]
        }
      ]
    },
    {
      "cell_type": "markdown",
      "metadata": {
        "id": "cT528cptLupl"
      },
      "source": [
        "## Replace sentence data with encoded subwords\n",
        "\n",
        "Now, we'll create the sequences to be used for training by actually encoding each of the individual sentences. This is equivalent to `text_to_sequences` with the `Tokenizer` we used in earlier exercises."
      ]
    },
    {
      "cell_type": "code",
      "metadata": {
        "id": "lkseMhxjL09F"
      },
      "source": [
        "for i, sentence in enumerate(sentences):\n",
        "  sentences[i] = tokenizer.encode(sentence) # tranforma a frase em um vetor de numeros que correspondem a cada subword."
      ],
      "execution_count": 8,
      "outputs": []
    },
    {
      "cell_type": "code",
      "metadata": {
        "id": "y21yRuzmL43U",
        "outputId": "d102ffd8-bc55-4ea1-e9c4-c441ea8c1ef7",
        "colab": {
          "base_uri": "https://localhost:8080/"
        }
      },
      "source": [
        "# Check the sentences are appropriately replaced\n",
        "print(sentences[5])"
      ],
      "execution_count": 9,
      "outputs": [
        {
          "output_type": "stream",
          "name": "stdout",
          "text": [
            "[4, 31, 6, 849, 162, 450, 12, 1, 600, 438, 775, 6, 175, 14, 6, 55, 213, 159, 474, 775, 6, 175, 614, 380, 295, 148, 72, 789]\n"
          ]
        }
      ]
    },
    {
      "cell_type": "markdown",
      "metadata": {
        "id": "8HrcPHESMBMs"
      },
      "source": [
        "## Final pre-processing\n",
        "\n",
        "Before training, we still need to pad the sequences, as well as split into training and test sets."
      ]
    },
    {
      "cell_type": "code",
      "metadata": {
        "id": "50-hTsogLSL-"
      },
      "source": [
        "import numpy as np\n",
        "\n",
        "max_length = 50\n",
        "trunc_type='post'\n",
        "padding_type='post'\n",
        "\n",
        "# Pad all sequences\n",
        "sequences_padded = pad_sequences(sentences, maxlen=max_length, \n",
        "                                 padding=padding_type, truncating=trunc_type)\n",
        "\n",
        "# Separate out the sentences and labels into training and test sets\n",
        "training_size = int(len(sentences) * 0.8)\n",
        "\n",
        "training_sequences = sequences_padded[0:training_size]\n",
        "testing_sequences = sequences_padded[training_size:]\n",
        "training_labels = labels[0:training_size]\n",
        "testing_labels = labels[training_size:]\n",
        "\n",
        "# Make labels into numpy arrays for use with the network later\n",
        "training_labels_final = np.array(training_labels)\n",
        "testing_labels_final = np.array(testing_labels)"
      ],
      "execution_count": 10,
      "outputs": []
    },
    {
      "cell_type": "markdown",
      "metadata": {
        "id": "PahZm7YEQ8EI"
      },
      "source": [
        "# Create the model using an Embedding"
      ]
    },
    {
      "cell_type": "code",
      "metadata": {
        "id": "c_nyQeI0RCCv",
        "outputId": "84684a7e-367a-4353-8b40-162884aa103d",
        "colab": {
          "base_uri": "https://localhost:8080/"
        }
      },
      "source": [
        "embedding_dim = 16\n",
        "\n",
        "model = tf.keras.Sequential([\n",
        "    tf.keras.layers.Embedding(vocab_size, embedding_dim, input_length=max_length),\n",
        "    tf.keras.layers.GlobalAveragePooling1D(), \n",
        "    tf.keras.layers.Dense(6, activation='relu'),\n",
        "    tf.keras.layers.Dense(1, activation='sigmoid')\n",
        "])\n",
        "\n",
        "model.summary()"
      ],
      "execution_count": 11,
      "outputs": [
        {
          "output_type": "stream",
          "name": "stdout",
          "text": [
            "Model: \"sequential\"\n",
            "_________________________________________________________________\n",
            "Layer (type)                 Output Shape              Param #   \n",
            "=================================================================\n",
            "embedding (Embedding)        (None, 50, 16)            16000     \n",
            "_________________________________________________________________\n",
            "global_average_pooling1d (Gl (None, 16)                0         \n",
            "_________________________________________________________________\n",
            "dense (Dense)                (None, 6)                 102       \n",
            "_________________________________________________________________\n",
            "dense_1 (Dense)              (None, 1)                 7         \n",
            "=================================================================\n",
            "Total params: 16,109\n",
            "Trainable params: 16,109\n",
            "Non-trainable params: 0\n",
            "_________________________________________________________________\n"
          ]
        }
      ]
    },
    {
      "cell_type": "markdown",
      "metadata": {
        "id": "3WRXrx8BRO2L"
      },
      "source": [
        "# Train the model"
      ]
    },
    {
      "cell_type": "code",
      "metadata": {
        "id": "oBKyVYvxRQ_9",
        "outputId": "a706c100-0dec-4841-cebd-61a2a43772b9",
        "colab": {
          "base_uri": "https://localhost:8080/"
        }
      },
      "source": [
        "num_epochs = 30\n",
        "model.compile(loss='binary_crossentropy',optimizer='adam',metrics=['accuracy'])\n",
        "history = model.fit(training_sequences, training_labels_final, epochs=num_epochs, validation_data=(testing_sequences, testing_labels_final))\n"
      ],
      "execution_count": 12,
      "outputs": [
        {
          "output_type": "stream",
          "name": "stdout",
          "text": [
            "Epoch 1/30\n",
            "50/50 [==============================] - 4s 13ms/step - loss: 0.6912 - accuracy: 0.5229 - val_loss: 0.6985 - val_accuracy: 0.4135\n",
            "Epoch 2/30\n",
            "50/50 [==============================] - 0s 7ms/step - loss: 0.6882 - accuracy: 0.5342 - val_loss: 0.6996 - val_accuracy: 0.4185\n",
            "Epoch 3/30\n",
            "50/50 [==============================] - 0s 6ms/step - loss: 0.6842 - accuracy: 0.5562 - val_loss: 0.6949 - val_accuracy: 0.4812\n",
            "Epoch 4/30\n",
            "50/50 [==============================] - 0s 7ms/step - loss: 0.6761 - accuracy: 0.5913 - val_loss: 0.6918 - val_accuracy: 0.5013\n",
            "Epoch 5/30\n",
            "50/50 [==============================] - 0s 7ms/step - loss: 0.6632 - accuracy: 0.6202 - val_loss: 0.6764 - val_accuracy: 0.5664\n",
            "Epoch 6/30\n",
            "50/50 [==============================] - 0s 7ms/step - loss: 0.6440 - accuracy: 0.6930 - val_loss: 0.6605 - val_accuracy: 0.6090\n",
            "Epoch 7/30\n",
            "50/50 [==============================] - 0s 7ms/step - loss: 0.6163 - accuracy: 0.7527 - val_loss: 0.6482 - val_accuracy: 0.6065\n",
            "Epoch 8/30\n",
            "50/50 [==============================] - 0s 7ms/step - loss: 0.5808 - accuracy: 0.7558 - val_loss: 0.6041 - val_accuracy: 0.7769\n",
            "Epoch 9/30\n",
            "50/50 [==============================] - 0s 6ms/step - loss: 0.5415 - accuracy: 0.8167 - val_loss: 0.5813 - val_accuracy: 0.7644\n",
            "Epoch 10/30\n",
            "50/50 [==============================] - 0s 6ms/step - loss: 0.5011 - accuracy: 0.8368 - val_loss: 0.5555 - val_accuracy: 0.7594\n",
            "Epoch 11/30\n",
            "50/50 [==============================] - 0s 7ms/step - loss: 0.4630 - accuracy: 0.8468 - val_loss: 0.5387 - val_accuracy: 0.7393\n",
            "Epoch 12/30\n",
            "50/50 [==============================] - 0s 7ms/step - loss: 0.4267 - accuracy: 0.8606 - val_loss: 0.5419 - val_accuracy: 0.7343\n",
            "Epoch 13/30\n",
            "50/50 [==============================] - 0s 7ms/step - loss: 0.3952 - accuracy: 0.8606 - val_loss: 0.5077 - val_accuracy: 0.7719\n",
            "Epoch 14/30\n",
            "50/50 [==============================] - 0s 6ms/step - loss: 0.3675 - accuracy: 0.8745 - val_loss: 0.5178 - val_accuracy: 0.7444\n",
            "Epoch 15/30\n",
            "50/50 [==============================] - 0s 6ms/step - loss: 0.3458 - accuracy: 0.8763 - val_loss: 0.5037 - val_accuracy: 0.7494\n",
            "Epoch 16/30\n",
            "50/50 [==============================] - 0s 6ms/step - loss: 0.3258 - accuracy: 0.8820 - val_loss: 0.4982 - val_accuracy: 0.7594\n",
            "Epoch 17/30\n",
            "50/50 [==============================] - 0s 7ms/step - loss: 0.3071 - accuracy: 0.8883 - val_loss: 0.4941 - val_accuracy: 0.7594\n",
            "Epoch 18/30\n",
            "50/50 [==============================] - 0s 6ms/step - loss: 0.2919 - accuracy: 0.9027 - val_loss: 0.5078 - val_accuracy: 0.7544\n",
            "Epoch 19/30\n",
            "50/50 [==============================] - 0s 7ms/step - loss: 0.2757 - accuracy: 0.9058 - val_loss: 0.5137 - val_accuracy: 0.7469\n",
            "Epoch 20/30\n",
            "50/50 [==============================] - 0s 7ms/step - loss: 0.2631 - accuracy: 0.9090 - val_loss: 0.5015 - val_accuracy: 0.7519\n",
            "Epoch 21/30\n",
            "50/50 [==============================] - 0s 6ms/step - loss: 0.2515 - accuracy: 0.9140 - val_loss: 0.5160 - val_accuracy: 0.7494\n",
            "Epoch 22/30\n",
            "50/50 [==============================] - 0s 7ms/step - loss: 0.2402 - accuracy: 0.9190 - val_loss: 0.5145 - val_accuracy: 0.7494\n",
            "Epoch 23/30\n",
            "50/50 [==============================] - 0s 7ms/step - loss: 0.2308 - accuracy: 0.9203 - val_loss: 0.5339 - val_accuracy: 0.7444\n",
            "Epoch 24/30\n",
            "50/50 [==============================] - 0s 6ms/step - loss: 0.2214 - accuracy: 0.9272 - val_loss: 0.5484 - val_accuracy: 0.7393\n",
            "Epoch 25/30\n",
            "50/50 [==============================] - 0s 7ms/step - loss: 0.2151 - accuracy: 0.9253 - val_loss: 0.5441 - val_accuracy: 0.7419\n",
            "Epoch 26/30\n",
            "50/50 [==============================] - 0s 7ms/step - loss: 0.2057 - accuracy: 0.9291 - val_loss: 0.5561 - val_accuracy: 0.7419\n",
            "Epoch 27/30\n",
            "50/50 [==============================] - 0s 6ms/step - loss: 0.1963 - accuracy: 0.9341 - val_loss: 0.5598 - val_accuracy: 0.7393\n",
            "Epoch 28/30\n",
            "50/50 [==============================] - 0s 6ms/step - loss: 0.1901 - accuracy: 0.9379 - val_loss: 0.5613 - val_accuracy: 0.7444\n",
            "Epoch 29/30\n",
            "50/50 [==============================] - 0s 7ms/step - loss: 0.1825 - accuracy: 0.9385 - val_loss: 0.5853 - val_accuracy: 0.7368\n",
            "Epoch 30/30\n",
            "50/50 [==============================] - 0s 6ms/step - loss: 0.1762 - accuracy: 0.9460 - val_loss: 0.5802 - val_accuracy: 0.7419\n"
          ]
        }
      ]
    },
    {
      "cell_type": "markdown",
      "metadata": {
        "id": "HhLPbUl2AZ0y"
      },
      "source": [
        "# Plot the accuracy and loss"
      ]
    },
    {
      "cell_type": "code",
      "metadata": {
        "id": "jzBM1PpJAYfD",
        "outputId": "801896a0-1052-42d9-e034-7a60272c88a1",
        "colab": {
          "base_uri": "https://localhost:8080/",
          "height": 541
        }
      },
      "source": [
        "import matplotlib.pyplot as plt\n",
        "\n",
        "\n",
        "def plot_graphs(history, string):\n",
        "  plt.plot(history.history[string])\n",
        "  plt.plot(history.history['val_'+string])\n",
        "  plt.xlabel(\"Epochs\")\n",
        "  plt.ylabel(string)\n",
        "  plt.legend([string, 'val_'+string])\n",
        "  plt.show()\n",
        "  \n",
        "plot_graphs(history, \"accuracy\")\n",
        "plot_graphs(history, \"loss\")"
      ],
      "execution_count": 13,
      "outputs": [
        {
          "output_type": "display_data",
          "data": {
            "image/png": "[encoded data removed]",
            "text/plain": [
              "<Figure size 432x288 with 1 Axes>"
            ]
          },
          "metadata": {
            "needs_background": "light"
          }
        },
        {
          "output_type": "display_data",
          "data": {
            "image/png": "[encoded data removed]",
            "text/plain": [
              "<Figure size 432x288 with 1 Axes>"
            ]
          },
          "metadata": {
            "needs_background": "light"
          }
        }
      ]
    },
    {
      "cell_type": "markdown",
      "metadata": {
        "id": "Fwr5inBiWffb"
      },
      "source": [
        "# Define a function to predict the sentiment of reviews\n",
        "\n",
        "We'll be creating models with some differences and will use each model to predict the sentiment of some new reviews.\n",
        "\n",
        "To save time, create a function that will take in a model and some new reviews, and print out the sentiment of each reviews.\n",
        "\n",
        "The higher the sentiment value is to 1, the more positive the review is."
      ]
    },
    {
      "cell_type": "code",
      "metadata": {
        "id": "aPNOYiiaha2y"
      },
      "source": [
        "# Define a function to take a series of reviews\n",
        "# and predict whether each one is a positive or negative review\n",
        "\n",
        "# max_length = 100 # previously defined\n",
        "\n",
        "def predict_review(model, new_sentences, maxlen=max_length, show_padded_sequence=True ):\n",
        "  # Keep the original sentences so that we can keep using them later\n",
        "  # Create an array to hold the encoded sequences\n",
        "  new_sequences = []\n",
        "\n",
        "  # Convert the new reviews to sequences\n",
        "  for i, frvw in enumerate(new_sentences):\n",
        "    new_sequences.append(tokenizer.encode(frvw))\n",
        "\n",
        "  trunc_type='post' \n",
        "  padding_type='post'\n",
        "\n",
        "  # Pad all sequences for the new reviews\n",
        "  new_reviews_padded = pad_sequences(new_sequences, maxlen=max_length, \n",
        "                                 padding=padding_type, truncating=trunc_type)             \n",
        "\n",
        "  classes = model.predict(new_reviews_padded)\n",
        "\n",
        "  # The closer the class is to 1, the more positive the review is\n",
        "  for x in range(len(new_sentences)):\n",
        "    \n",
        "    # We can see the padded sequence if desired\n",
        "    # Print the sequence\n",
        "    if (show_padded_sequence):\n",
        "      print(new_reviews_padded[x])\n",
        "    # Print the review as text\n",
        "    print(new_sentences[x])\n",
        "    # Print its predicted class\n",
        "    print(classes[x])\n",
        "    print(\"\\n\")"
      ],
      "execution_count": 14,
      "outputs": []
    },
    {
      "cell_type": "code",
      "metadata": {
        "id": "Qg-maex27KPW",
        "outputId": "981087fc-cd0a-41aa-cfb4-8816addc0471",
        "colab": {
          "base_uri": "https://localhost:8080/"
        }
      },
      "source": [
        "# Use the model to predict some reviews   \n",
        "fake_reviews = [\"I love this phone\", \n",
        "                \"Everything was cold\",\n",
        "                \"Everything was hot exactly as I wanted\", \n",
        "                \"Everything was green\", \n",
        "                \"the host seated us immediately\",\n",
        "                \"they gave us free chocolate cake\", \n",
        "                \"we couldn't hear each other talk because of the shouting in the kitchen\"\n",
        "              ]\n",
        "\n",
        "predict_review(model, fake_reviews)\n"
      ],
      "execution_count": 15,
      "outputs": [
        {
          "output_type": "stream",
          "name": "stdout",
          "text": [
            "[  4 281  16  25   0   0   0   0   0   0   0   0   0   0   0   0   0   0\n",
            "   0   0   0   0   0   0   0   0   0   0   0   0   0   0   0   0   0   0\n",
            "   0   0   0   0   0   0   0   0   0   0   0   0   0   0]\n",
            "I love this phone\n",
            "[0.88767797]\n",
            "\n",
            "\n",
            "[812 227 864 100 775   9 525 843   0   0   0   0   0   0   0   0   0   0\n",
            "   0   0   0   0   0   0   0   0   0   0   0   0   0   0   0   0   0   0\n",
            "   0   0   0   0   0   0   0   0   0   0   0   0   0   0]\n",
            "Everything was cold\n",
            "[0.0938775]\n",
            "\n",
            "\n",
            "[812 227 864 100 775   9 109   8 333 731  24  61   4 171  59  77   0   0\n",
            "   0   0   0   0   0   0   0   0   0   0   0   0   0   0   0   0   0   0\n",
            "   0   0   0   0   0   0   0   0   0   0   0   0   0   0]\n",
            "Everything was hot exactly as I wanted\n",
            "[0.30552733]\n",
            "\n",
            "\n",
            "[812 227 864 100 775   9 157 359 853   0   0   0   0   0   0   0   0   0\n",
            "   0   0   0   0   0   0   0   0   0   0   0   0   0   0   0   0   0   0\n",
            "   0   0   0   0   0   0   0   0   0   0   0   0   0   0]\n",
            "Everything was green\n",
            "[0.08151822]\n",
            "\n",
            "\n",
            "[  1 109 228 540 237 635 241 423 340  89 298   0   0   0   0   0   0   0\n",
            "   0   0   0   0   0   0   0   0   0   0   0   0   0   0   0   0   0   0\n",
            "   0   0   0   0   0   0   0   0   0   0   0   0   0   0]\n",
            "the host seated us immediately\n",
            "[0.40329528]\n",
            "\n",
            "\n",
            "[154 242  47 635 341  12 569 547 147 319 775 125  85   0   0   0   0   0\n",
            "   0   0   0   0   0   0   0   0   0   0   0   0   0   0   0   0   0   0\n",
            "   0   0   0   0   0   0   0   0   0   0   0   0   0   0]\n",
            "they gave us free chocolate cake\n",
            "[0.7303463]\n",
            "\n",
            "\n",
            "[158 190 853 782   8 607 775 210 232 146 775 470  67 305 101  15   1 328\n",
            " 296  26  19   1 661 641 195   0   0   0   0   0   0   0   0   0   0   0\n",
            "   0   0   0   0   0   0   0   0   0   0   0   0   0   0]\n",
            "we couldn't hear each other talk because of the shouting in the kitchen\n",
            "[0.02115026]\n",
            "\n",
            "\n"
          ]
        }
      ]
    },
    {
      "cell_type": "markdown",
      "metadata": {
        "id": "ycJKbMq3K4iy"
      },
      "source": [
        "# Define a function to train and show the results of models with different layers\n",
        "\n",
        "In the rest of this colab, we will define models, and then see the results. \n",
        "\n",
        "Define a function that will take the model, compile it, train it, graph the accuracy and loss, and then predict some results."
      ]
    },
    {
      "cell_type": "code",
      "metadata": {
        "id": "PevUcINXK3gn"
      },
      "source": [
        "def fit_model_now (model, sentences) :\n",
        "  model.compile(loss='binary_crossentropy',optimizer='adam',metrics=['accuracy'])\n",
        "  model.summary()\n",
        "  history = model.fit(training_sequences, training_labels_final, epochs=num_epochs, \n",
        "                      validation_data=(testing_sequences, testing_labels_final))\n",
        "  return history\n",
        "\n",
        "def plot_results (history):\n",
        "  plot_graphs(history, \"accuracy\")\n",
        "  plot_graphs(history, \"loss\")\n",
        "\n",
        "def fit_model_and_show_results (model, sentences):\n",
        "  history = fit_model_now(model, sentences)\n",
        "  plot_results(history)\n",
        "  predict_review(model, sentences)"
      ],
      "execution_count": 16,
      "outputs": []
    },
    {
      "cell_type": "markdown",
      "metadata": {
        "id": "U13JBiJUG1oq"
      },
      "source": [
        "# Add a bidirectional LSTM\n",
        "\n",
        "Create a new model that uses a bidirectional LSTM.\n",
        "\n",
        "Then use the function we have already defined to compile the model, train it, graph the accuracy and loss, then predict some results."
      ]
    },
    {
      "cell_type": "code",
      "metadata": {
        "id": "scTUsFPAG4zP",
        "outputId": "1e21fe5e-fd1e-47b2-c5d2-1b5ac8e44df6",
        "colab": {
          "base_uri": "https://localhost:8080/",
          "height": 1000
        }
      },
      "source": [
        "# Define the model\n",
        "model_bidi_lstm = tf.keras.Sequential([\n",
        "    tf.keras.layers.Embedding(vocab_size, embedding_dim, input_length=max_length),\n",
        "    tf.keras.layers.Bidirectional(tf.keras.layers.LSTM(embedding_dim)), \n",
        "    tf.keras.layers.Dense(6, activation='relu'), \n",
        "    tf.keras.layers.Dense(1, activation='sigmoid')\n",
        "])\n",
        "\n",
        "# Compile and train the model and then show the predictions for our extra sentences\n",
        "fit_model_and_show_results(model_bidi_lstm, fake_reviews)\n"
      ],
      "execution_count": 17,
      "outputs": [
        {
          "output_type": "stream",
          "name": "stdout",
          "text": [
            "Model: \"sequential_1\"\n",
            "_________________________________________________________________\n",
            "Layer (type)                 Output Shape              Param #   \n",
            "=================================================================\n",
            "embedding_1 (Embedding)      (None, 50, 16)            16000     \n",
            "_________________________________________________________________\n",
            "bidirectional (Bidirectional (None, 32)                4224      \n",
            "_________________________________________________________________\n",
            "dense_2 (Dense)              (None, 6)                 198       \n",
            "_________________________________________________________________\n",
            "dense_3 (Dense)              (None, 1)                 7         \n",
            "=================================================================\n",
            "Total params: 20,429\n",
            "Trainable params: 20,429\n",
            "Non-trainable params: 0\n",
            "_________________________________________________________________\n",
            "Epoch 1/30\n",
            "50/50 [==============================] - 8s 40ms/step - loss: 0.6904 - accuracy: 0.5204 - val_loss: 0.6941 - val_accuracy: 0.4236\n",
            "Epoch 2/30\n",
            "50/50 [==============================] - 1s 23ms/step - loss: 0.6477 - accuracy: 0.6616 - val_loss: 0.6085 - val_accuracy: 0.7068\n",
            "Epoch 3/30\n",
            "50/50 [==============================] - 1s 23ms/step - loss: 0.4871 - accuracy: 0.8004 - val_loss: 0.5225 - val_accuracy: 0.7519\n",
            "Epoch 4/30\n",
            "50/50 [==============================] - 1s 23ms/step - loss: 0.3429 - accuracy: 0.8625 - val_loss: 0.5586 - val_accuracy: 0.7343\n",
            "Epoch 5/30\n",
            "50/50 [==============================] - 1s 24ms/step - loss: 0.2477 - accuracy: 0.9077 - val_loss: 0.5807 - val_accuracy: 0.7644\n",
            "Epoch 6/30\n",
            "50/50 [==============================] - 1s 23ms/step - loss: 0.2085 - accuracy: 0.9228 - val_loss: 0.6541 - val_accuracy: 0.7544\n",
            "Epoch 7/30\n",
            "50/50 [==============================] - 1s 24ms/step - loss: 0.1616 - accuracy: 0.9492 - val_loss: 0.7814 - val_accuracy: 0.7268\n",
            "Epoch 8/30\n",
            "50/50 [==============================] - 1s 24ms/step - loss: 0.1150 - accuracy: 0.9705 - val_loss: 0.8688 - val_accuracy: 0.7268\n",
            "Epoch 9/30\n",
            "50/50 [==============================] - 1s 23ms/step - loss: 0.0890 - accuracy: 0.9774 - val_loss: 0.9177 - val_accuracy: 0.7419\n",
            "Epoch 10/30\n",
            "50/50 [==============================] - 1s 23ms/step - loss: 0.0881 - accuracy: 0.9749 - val_loss: 0.8901 - val_accuracy: 0.7569\n",
            "Epoch 11/30\n",
            "50/50 [==============================] - 1s 23ms/step - loss: 0.0629 - accuracy: 0.9862 - val_loss: 0.9570 - val_accuracy: 0.7594\n",
            "Epoch 12/30\n",
            "50/50 [==============================] - 1s 23ms/step - loss: 0.0662 - accuracy: 0.9849 - val_loss: 0.9886 - val_accuracy: 0.7393\n",
            "Epoch 13/30\n",
            "50/50 [==============================] - 1s 23ms/step - loss: 0.0749 - accuracy: 0.9799 - val_loss: 0.9457 - val_accuracy: 0.7419\n",
            "Epoch 14/30\n",
            "50/50 [==============================] - 1s 23ms/step - loss: 0.0557 - accuracy: 0.9881 - val_loss: 1.1305 - val_accuracy: 0.7293\n",
            "Epoch 15/30\n",
            "50/50 [==============================] - 1s 23ms/step - loss: 0.0445 - accuracy: 0.9900 - val_loss: 1.1018 - val_accuracy: 0.7368\n",
            "Epoch 16/30\n",
            "50/50 [==============================] - 1s 23ms/step - loss: 0.0277 - accuracy: 0.9944 - val_loss: 1.2184 - val_accuracy: 0.7293\n",
            "Epoch 17/30\n",
            "50/50 [==============================] - 1s 23ms/step - loss: 0.0219 - accuracy: 0.9969 - val_loss: 1.3126 - val_accuracy: 0.7268\n",
            "Epoch 18/30\n",
            "50/50 [==============================] - 1s 23ms/step - loss: 0.0189 - accuracy: 0.9975 - val_loss: 1.3857 - val_accuracy: 0.7218\n",
            "Epoch 19/30\n",
            "50/50 [==============================] - 1s 23ms/step - loss: 0.0168 - accuracy: 0.9981 - val_loss: 1.4244 - val_accuracy: 0.7218\n",
            "Epoch 20/30\n",
            "50/50 [==============================] - 1s 23ms/step - loss: 0.0151 - accuracy: 0.9981 - val_loss: 1.4758 - val_accuracy: 0.7243\n",
            "Epoch 21/30\n",
            "50/50 [==============================] - 1s 23ms/step - loss: 0.0132 - accuracy: 0.9981 - val_loss: 1.4660 - val_accuracy: 0.7268\n",
            "Epoch 22/30\n",
            "50/50 [==============================] - 1s 23ms/step - loss: 0.0104 - accuracy: 0.9981 - val_loss: 1.5322 - val_accuracy: 0.7368\n",
            "Epoch 23/30\n",
            "50/50 [==============================] - 1s 24ms/step - loss: 0.0078 - accuracy: 0.9994 - val_loss: 1.5482 - val_accuracy: 0.7318\n",
            "Epoch 24/30\n",
            "50/50 [==============================] - 1s 23ms/step - loss: 0.0066 - accuracy: 0.9994 - val_loss: 1.4783 - val_accuracy: 0.7368\n",
            "Epoch 25/30\n",
            "50/50 [==============================] - 1s 23ms/step - loss: 0.0225 - accuracy: 0.9931 - val_loss: 1.4294 - val_accuracy: 0.7193\n",
            "Epoch 26/30\n",
            "50/50 [==============================] - 1s 24ms/step - loss: 0.1015 - accuracy: 0.9661 - val_loss: 0.8947 - val_accuracy: 0.7669\n",
            "Epoch 27/30\n",
            "50/50 [==============================] - 1s 23ms/step - loss: 0.1039 - accuracy: 0.9661 - val_loss: 1.0081 - val_accuracy: 0.7469\n",
            "Epoch 28/30\n",
            "50/50 [==============================] - 1s 24ms/step - loss: 0.0274 - accuracy: 0.9937 - val_loss: 1.1979 - val_accuracy: 0.7168\n",
            "Epoch 29/30\n",
            "50/50 [==============================] - 1s 24ms/step - loss: 0.0118 - accuracy: 0.9987 - val_loss: 1.3272 - val_accuracy: 0.7343\n",
            "Epoch 30/30\n",
            "50/50 [==============================] - 1s 24ms/step - loss: 0.0063 - accuracy: 1.0000 - val_loss: 1.4062 - val_accuracy: 0.7343\n"
          ]
        },
        {
          "output_type": "display_data",
          "data": {
            "image/png": "[encoded data removed]",
            "text/plain": [
              "<Figure size 432x288 with 1 Axes>"
            ]
          },
          "metadata": {
            "needs_background": "light"
          }
        },
        {
          "output_type": "display_data",
          "data": {
            "image/png": "[encoded data removed]",
            "text/plain": [
              "<Figure size 432x288 with 1 Axes>"
            ]
          },
          "metadata": {
            "needs_background": "light"
          }
        },
        {
          "output_type": "stream",
          "name": "stdout",
          "text": [
            "[  4 281  16  25   0   0   0   0   0   0   0   0   0   0   0   0   0   0\n",
            "   0   0   0   0   0   0   0   0   0   0   0   0   0   0   0   0   0   0\n",
            "   0   0   0   0   0   0   0   0   0   0   0   0   0   0]\n",
            "I love this phone\n",
            "[0.998565]\n",
            "\n",
            "\n",
            "[812 227 864 100 775   9 525 843   0   0   0   0   0   0   0   0   0   0\n",
            "   0   0   0   0   0   0   0   0   0   0   0   0   0   0   0   0   0   0\n",
            "   0   0   0   0   0   0   0   0   0   0   0   0   0   0]\n",
            "Everything was cold\n",
            "[0.00135019]\n",
            "\n",
            "\n",
            "[812 227 864 100 775   9 109   8 333 731  24  61   4 171  59  77   0   0\n",
            "   0   0   0   0   0   0   0   0   0   0   0   0   0   0   0   0   0   0\n",
            "   0   0   0   0   0   0   0   0   0   0   0   0   0   0]\n",
            "Everything was hot exactly as I wanted\n",
            "[0.10017968]\n",
            "\n",
            "\n",
            "[812 227 864 100 775   9 157 359 853   0   0   0   0   0   0   0   0   0\n",
            "   0   0   0   0   0   0   0   0   0   0   0   0   0   0   0   0   0   0\n",
            "   0   0   0   0   0   0   0   0   0   0   0   0   0   0]\n",
            "Everything was green\n",
            "[0.00645608]\n",
            "\n",
            "\n",
            "[  1 109 228 540 237 635 241 423 340  89 298   0   0   0   0   0   0   0\n",
            "   0   0   0   0   0   0   0   0   0   0   0   0   0   0   0   0   0   0\n",
            "   0   0   0   0   0   0   0   0   0   0   0   0   0   0]\n",
            "the host seated us immediately\n",
            "[0.9984357]\n",
            "\n",
            "\n",
            "[154 242  47 635 341  12 569 547 147 319 775 125  85   0   0   0   0   0\n",
            "   0   0   0   0   0   0   0   0   0   0   0   0   0   0   0   0   0   0\n",
            "   0   0   0   0   0   0   0   0   0   0   0   0   0   0]\n",
            "they gave us free chocolate cake\n",
            "[0.00854682]\n",
            "\n",
            "\n",
            "[158 190 853 782   8 607 775 210 232 146 775 470  67 305 101  15   1 328\n",
            " 296  26  19   1 661 641 195   0   0   0   0   0   0   0   0   0   0   0\n",
            "   0   0   0   0   0   0   0   0   0   0   0   0   0   0]\n",
            "we couldn't hear each other talk because of the shouting in the kitchen\n",
            "[0.00055145]\n",
            "\n",
            "\n"
          ]
        }
      ]
    },
    {
      "cell_type": "markdown",
      "metadata": {
        "id": "QsxKPbCnPJTj"
      },
      "source": [
        "# Use multiple bidirectional layers\n",
        "\n",
        "Now let's see if we get any improvements from adding another Bidirectional LSTM layer to the model.\n",
        "\n",
        "Notice that the first Bidirectionl LSTM layer returns a sequence."
      ]
    },
    {
      "cell_type": "code",
      "metadata": {
        "id": "3N6Zul47PMED",
        "outputId": "25415159-e39f-404e-bf7e-5dbb883ef309",
        "colab": {
          "base_uri": "https://localhost:8080/",
          "height": 1000
        }
      },
      "source": [
        "model_multiple_bidi_lstm = tf.keras.Sequential([\n",
        "    tf.keras.layers.Embedding(vocab_size, embedding_dim, input_length=max_length),\n",
        "    tf.keras.layers.Bidirectional(tf.keras.layers.LSTM(embedding_dim, \n",
        "                                                       return_sequences=True)), \n",
        "    tf.keras.layers.Bidirectional(tf.keras.layers.LSTM(embedding_dim)),\n",
        "    tf.keras.layers.Dense(6, activation='relu'),\n",
        "    tf.keras.layers.Dense(1, activation='sigmoid')\n",
        "])\n",
        "\n",
        "fit_model_and_show_results(model_multiple_bidi_lstm, fake_reviews)"
      ],
      "execution_count": 18,
      "outputs": [
        {
          "output_type": "stream",
          "name": "stdout",
          "text": [
            "Model: \"sequential_2\"\n",
            "_________________________________________________________________\n",
            "Layer (type)                 Output Shape              Param #   \n",
            "=================================================================\n",
            "embedding_2 (Embedding)      (None, 50, 16)            16000     \n",
            "_________________________________________________________________\n",
            "bidirectional_1 (Bidirection (None, 50, 32)            4224      \n",
            "_________________________________________________________________\n",
            "bidirectional_2 (Bidirection (None, 32)                6272      \n",
            "_________________________________________________________________\n",
            "dense_4 (Dense)              (None, 6)                 198       \n",
            "_________________________________________________________________\n",
            "dense_5 (Dense)              (None, 1)                 7         \n",
            "=================================================================\n",
            "Total params: 26,701\n",
            "Trainable params: 26,701\n",
            "Non-trainable params: 0\n",
            "_________________________________________________________________\n",
            "Epoch 1/30\n",
            "50/50 [==============================] - 10s 79ms/step - loss: 0.6928 - accuracy: 0.5549 - val_loss: 0.6891 - val_accuracy: 0.6942\n",
            "Epoch 2/30\n",
            "50/50 [==============================] - 2s 48ms/step - loss: 0.6359 - accuracy: 0.6805 - val_loss: 0.5301 - val_accuracy: 0.7544\n",
            "Epoch 3/30\n",
            "50/50 [==============================] - 2s 49ms/step - loss: 0.4176 - accuracy: 0.8293 - val_loss: 0.4881 - val_accuracy: 0.7619\n",
            "Epoch 4/30\n",
            "50/50 [==============================] - 2s 49ms/step - loss: 0.3138 - accuracy: 0.8776 - val_loss: 0.4983 - val_accuracy: 0.7794\n",
            "Epoch 5/30\n",
            "50/50 [==============================] - 2s 49ms/step - loss: 0.2624 - accuracy: 0.9008 - val_loss: 0.5201 - val_accuracy: 0.7719\n",
            "Epoch 6/30\n",
            "50/50 [==============================] - 2s 49ms/step - loss: 0.2266 - accuracy: 0.9247 - val_loss: 0.6464 - val_accuracy: 0.7544\n",
            "Epoch 7/30\n",
            "50/50 [==============================] - 2s 48ms/step - loss: 0.1980 - accuracy: 0.9341 - val_loss: 0.6106 - val_accuracy: 0.7719\n",
            "Epoch 8/30\n",
            "50/50 [==============================] - 2s 49ms/step - loss: 0.1516 - accuracy: 0.9554 - val_loss: 0.8665 - val_accuracy: 0.7393\n",
            "Epoch 9/30\n",
            "50/50 [==============================] - 2s 49ms/step - loss: 0.1398 - accuracy: 0.9573 - val_loss: 0.7326 - val_accuracy: 0.7820\n",
            "Epoch 10/30\n",
            "50/50 [==============================] - 2s 48ms/step - loss: 0.1687 - accuracy: 0.9416 - val_loss: 0.8583 - val_accuracy: 0.7243\n",
            "Epoch 11/30\n",
            "50/50 [==============================] - 2s 48ms/step - loss: 0.1399 - accuracy: 0.9573 - val_loss: 0.7945 - val_accuracy: 0.7193\n",
            "Epoch 12/30\n",
            "50/50 [==============================] - 2s 49ms/step - loss: 0.1009 - accuracy: 0.9761 - val_loss: 0.9273 - val_accuracy: 0.7318\n",
            "Epoch 13/30\n",
            "50/50 [==============================] - 2s 49ms/step - loss: 0.0845 - accuracy: 0.9812 - val_loss: 0.9736 - val_accuracy: 0.7343\n",
            "Epoch 14/30\n",
            "50/50 [==============================] - 2s 48ms/step - loss: 0.0726 - accuracy: 0.9849 - val_loss: 1.0604 - val_accuracy: 0.7118\n",
            "Epoch 15/30\n",
            "50/50 [==============================] - 2s 48ms/step - loss: 0.0706 - accuracy: 0.9868 - val_loss: 1.1072 - val_accuracy: 0.7268\n",
            "Epoch 16/30\n",
            "50/50 [==============================] - 2s 49ms/step - loss: 0.0858 - accuracy: 0.9780 - val_loss: 1.0168 - val_accuracy: 0.7168\n",
            "Epoch 17/30\n",
            "50/50 [==============================] - 2s 49ms/step - loss: 0.0824 - accuracy: 0.9812 - val_loss: 1.0818 - val_accuracy: 0.7093\n",
            "Epoch 18/30\n",
            "50/50 [==============================] - 2s 49ms/step - loss: 0.0824 - accuracy: 0.9818 - val_loss: 1.0182 - val_accuracy: 0.7343\n",
            "Epoch 19/30\n",
            "50/50 [==============================] - 2s 50ms/step - loss: 0.0891 - accuracy: 0.9768 - val_loss: 0.9709 - val_accuracy: 0.7393\n",
            "Epoch 20/30\n",
            "50/50 [==============================] - 2s 48ms/step - loss: 0.1094 - accuracy: 0.9686 - val_loss: 0.8659 - val_accuracy: 0.7519\n",
            "Epoch 21/30\n",
            "50/50 [==============================] - 2s 48ms/step - loss: 0.0864 - accuracy: 0.9774 - val_loss: 0.9721 - val_accuracy: 0.7444\n",
            "Epoch 22/30\n",
            "50/50 [==============================] - 2s 49ms/step - loss: 0.0715 - accuracy: 0.9843 - val_loss: 0.9995 - val_accuracy: 0.7544\n",
            "Epoch 23/30\n",
            "50/50 [==============================] - 2s 48ms/step - loss: 0.0635 - accuracy: 0.9868 - val_loss: 1.0666 - val_accuracy: 0.7343\n",
            "Epoch 24/30\n",
            "50/50 [==============================] - 2s 48ms/step - loss: 0.0649 - accuracy: 0.9862 - val_loss: 0.9715 - val_accuracy: 0.7544\n",
            "Epoch 25/30\n",
            "50/50 [==============================] - 2s 49ms/step - loss: 0.0698 - accuracy: 0.9843 - val_loss: 1.0742 - val_accuracy: 0.7469\n",
            "Epoch 26/30\n",
            "50/50 [==============================] - 2s 48ms/step - loss: 0.0625 - accuracy: 0.9868 - val_loss: 1.0370 - val_accuracy: 0.7519\n",
            "Epoch 27/30\n",
            "50/50 [==============================] - 2s 49ms/step - loss: 0.0537 - accuracy: 0.9906 - val_loss: 1.1001 - val_accuracy: 0.7469\n",
            "Epoch 28/30\n",
            "50/50 [==============================] - 2s 49ms/step - loss: 0.0515 - accuracy: 0.9906 - val_loss: 1.1593 - val_accuracy: 0.7469\n",
            "Epoch 29/30\n",
            "50/50 [==============================] - 2s 49ms/step - loss: 0.0521 - accuracy: 0.9900 - val_loss: 1.1151 - val_accuracy: 0.7494\n",
            "Epoch 30/30\n",
            "50/50 [==============================] - 2s 48ms/step - loss: 0.0499 - accuracy: 0.9900 - val_loss: 1.1717 - val_accuracy: 0.7494\n"
          ]
        },
        {
          "output_type": "display_data",
          "data": {
            "image/png": "[encoded data removed]",
            "text/plain": [
              "<Figure size 432x288 with 1 Axes>"
            ]
          },
          "metadata": {
            "needs_background": "light"
          }
        },
        {
          "output_type": "display_data",
          "data": {
            "image/png": "[encoded data removed]",
            "text/plain": [
              "<Figure size 432x288 with 1 Axes>"
            ]
          },
          "metadata": {
            "needs_background": "light"
          }
        },
        {
          "output_type": "stream",
          "name": "stdout",
          "text": [
            "[  4 281  16  25   0   0   0   0   0   0   0   0   0   0   0   0   0   0\n",
            "   0   0   0   0   0   0   0   0   0   0   0   0   0   0   0   0   0   0\n",
            "   0   0   0   0   0   0   0   0   0   0   0   0   0   0]\n",
            "I love this phone\n",
            "[0.99296606]\n",
            "\n",
            "\n",
            "[812 227 864 100 775   9 525 843   0   0   0   0   0   0   0   0   0   0\n",
            "   0   0   0   0   0   0   0   0   0   0   0   0   0   0   0   0   0   0\n",
            "   0   0   0   0   0   0   0   0   0   0   0   0   0   0]\n",
            "Everything was cold\n",
            "[0.01575456]\n",
            "\n",
            "\n",
            "[812 227 864 100 775   9 109   8 333 731  24  61   4 171  59  77   0   0\n",
            "   0   0   0   0   0   0   0   0   0   0   0   0   0   0   0   0   0   0\n",
            "   0   0   0   0   0   0   0   0   0   0   0   0   0   0]\n",
            "Everything was hot exactly as I wanted\n",
            "[0.3622008]\n",
            "\n",
            "\n",
            "[812 227 864 100 775   9 157 359 853   0   0   0   0   0   0   0   0   0\n",
            "   0   0   0   0   0   0   0   0   0   0   0   0   0   0   0   0   0   0\n",
            "   0   0   0   0   0   0   0   0   0   0   0   0   0   0]\n",
            "Everything was green\n",
            "[0.00981918]\n",
            "\n",
            "\n",
            "[  1 109 228 540 237 635 241 423 340  89 298   0   0   0   0   0   0   0\n",
            "   0   0   0   0   0   0   0   0   0   0   0   0   0   0   0   0   0   0\n",
            "   0   0   0   0   0   0   0   0   0   0   0   0   0   0]\n",
            "the host seated us immediately\n",
            "[0.98699355]\n",
            "\n",
            "\n",
            "[154 242  47 635 341  12 569 547 147 319 775 125  85   0   0   0   0   0\n",
            "   0   0   0   0   0   0   0   0   0   0   0   0   0   0   0   0   0   0\n",
            "   0   0   0   0   0   0   0   0   0   0   0   0   0   0]\n",
            "they gave us free chocolate cake\n",
            "[0.9897015]\n",
            "\n",
            "\n",
            "[158 190 853 782   8 607 775 210 232 146 775 470  67 305 101  15   1 328\n",
            " 296  26  19   1 661 641 195   0   0   0   0   0   0   0   0   0   0   0\n",
            "   0   0   0   0   0   0   0   0   0   0   0   0   0   0]\n",
            "we couldn't hear each other talk because of the shouting in the kitchen\n",
            "[0.02467038]\n",
            "\n",
            "\n"
          ]
        }
      ]
    },
    {
      "cell_type": "markdown",
      "metadata": {
        "id": "ABVYYPwba8Hx"
      },
      "source": [
        "# Compare predictions for all the models\n",
        "\n",
        "It can be hard to see which model gives a better prediction for different reviews when you examine each model separately. So for comparison purposes, here we define some more reviews and print out the predictions that each of the three models gives for each review:\n",
        "\n",
        "*   Embeddings and a Global Average Pooling layer\n",
        "*   Embeddings and a Bidirectional LSTM layer\n",
        "*   Embeddings and two Bidirectional LSTM layers\n",
        "\n",
        "The results are not always what you might expect. The input dataset is fairly small, it has less than 2000 reviews. Some of the reviews are fairly short, and some of the short ones are fairly repetitive which reduces their impact on improving the  model, such as these two reviews:\n",
        "\n",
        "*   Bad Quality.\n",
        "*   Low Quality.\n",
        "\n",
        "Feel free to add more reviews of your own, or change the reviews. The results will depend on the combination of words in the reviews, and how well they match to reviews in the training set. \n",
        "\n",
        "How do the different models handle things like \"wasn't good\" which contains a positive word (good) but is a poor review?\n"
      ]
    },
    {
      "cell_type": "code",
      "metadata": {
        "id": "6XebrXt0jtOy"
      },
      "source": [
        "my_reviews =[\"lovely\", \"dreadful\", \"stay away\",\n",
        "             \"everything was hot exactly as I wanted\",\n",
        "             \"everything was not exactly as I wanted\",\n",
        "             \"they gave us free chocolate cake\",\n",
        "             \"I've never eaten anything so spicy in my life, my throat burned for hours\",\n",
        "             \"for a phone that is as expensive as this one I expect it to be much easier to use than this thing is\",\n",
        "             \"we left there very full for a low price so I'd say you just can't go wrong at this place\",\n",
        "             \"that place does not have quality meals and it isn't a good place to go for dinner\",\n",
        "             ]"
      ],
      "execution_count": 19,
      "outputs": []
    },
    {
      "cell_type": "code",
      "metadata": {
        "id": "tRWGjkJLkY2y",
        "outputId": "45f983a9-be7d-4f28-ab5a-b81f9670bb49",
        "colab": {
          "base_uri": "https://localhost:8080/"
        }
      },
      "source": [
        "print(\"===================================\\n\",\"Embeddings only:\\n\", \"===================================\",)\n",
        "predict_review(model, my_reviews, show_padded_sequence=False)"
      ],
      "execution_count": 20,
      "outputs": [
        {
          "output_type": "stream",
          "name": "stdout",
          "text": [
            "===================================\n",
            " Embeddings only:\n",
            " ===================================\n",
            "lovely\n",
            "[0.90519464]\n",
            "\n",
            "\n",
            "dreadful\n",
            "[0.26710555]\n",
            "\n",
            "\n",
            "stay away\n",
            "[0.59897715]\n",
            "\n",
            "\n",
            "everything was hot exactly as I wanted\n",
            "[0.7413937]\n",
            "\n",
            "\n",
            "everything was not exactly as I wanted\n",
            "[0.482255]\n",
            "\n",
            "\n",
            "they gave us free chocolate cake\n",
            "[0.7303463]\n",
            "\n",
            "\n",
            "I've never eaten anything so spicy in my life, my throat burned for hours\n",
            "[0.0250388]\n",
            "\n",
            "\n",
            "for a phone that is as expensive as this one I expect it to be much easier to use than this thing is\n",
            "[0.58474755]\n",
            "\n",
            "\n",
            "we left there very full for a low price so I'd say you just can't go wrong at this place\n",
            "[0.8164425]\n",
            "\n",
            "\n",
            "that place does not have quality meals and it isn't a good place to go for dinner\n",
            "[0.84899044]\n",
            "\n",
            "\n"
          ]
        }
      ]
    },
    {
      "cell_type": "code",
      "metadata": {
        "id": "G2FJR3IVBt30",
        "outputId": "6e9a78b7-6029-4302-ed65-e83c3bff7760",
        "colab": {
          "base_uri": "https://localhost:8080/"
        }
      },
      "source": [
        "print(\"===================================\\n\", \"With a single bidirectional LSTM:\\n\", \"===================================\")\n",
        "predict_review(model_bidi_lstm, my_reviews, show_padded_sequence=False)"
      ],
      "execution_count": 21,
      "outputs": [
        {
          "output_type": "stream",
          "name": "stdout",
          "text": [
            "===================================\n",
            " With a single bidirectional LSTM:\n",
            " ===================================\n",
            "lovely\n",
            "[0.99415416]\n",
            "\n",
            "\n",
            "dreadful\n",
            "[0.00476939]\n",
            "\n",
            "\n",
            "stay away\n",
            "[0.03822243]\n",
            "\n",
            "\n",
            "everything was hot exactly as I wanted\n",
            "[0.8971423]\n",
            "\n",
            "\n",
            "everything was not exactly as I wanted\n",
            "[0.02672667]\n",
            "\n",
            "\n",
            "they gave us free chocolate cake\n",
            "[0.00854682]\n",
            "\n",
            "\n",
            "I've never eaten anything so spicy in my life, my throat burned for hours\n",
            "[0.9972619]\n",
            "\n",
            "\n",
            "for a phone that is as expensive as this one I expect it to be much easier to use than this thing is\n",
            "[0.07575625]\n",
            "\n",
            "\n",
            "we left there very full for a low price so I'd say you just can't go wrong at this place\n",
            "[0.99983466]\n",
            "\n",
            "\n",
            "that place does not have quality meals and it isn't a good place to go for dinner\n",
            "[0.9960223]\n",
            "\n",
            "\n"
          ]
        }
      ]
    },
    {
      "cell_type": "code",
      "metadata": {
        "id": "81v1r3Y2BwvC",
        "outputId": "bcaf5495-e50d-4760-c42c-2f3a6c08afdf",
        "colab": {
          "base_uri": "https://localhost:8080/"
        }
      },
      "source": [
        "print(\"===================================\\n\",\"With two bidirectional LSTMs:\\n\", \"===================================\")\n",
        "predict_review(model_multiple_bidi_lstm, my_reviews, show_padded_sequence=False)"
      ],
      "execution_count": 22,
      "outputs": [
        {
          "output_type": "stream",
          "name": "stdout",
          "text": [
            "===================================\n",
            " With two bidirectional LSTMs:\n",
            " ===================================\n",
            "lovely\n",
            "[0.9926158]\n",
            "\n",
            "\n",
            "dreadful\n",
            "[0.01491787]\n",
            "\n",
            "\n",
            "stay away\n",
            "[0.03183665]\n",
            "\n",
            "\n",
            "everything was hot exactly as I wanted\n",
            "[0.9744211]\n",
            "\n",
            "\n",
            "everything was not exactly as I wanted\n",
            "[0.01016872]\n",
            "\n",
            "\n",
            "they gave us free chocolate cake\n",
            "[0.9897015]\n",
            "\n",
            "\n",
            "I've never eaten anything so spicy in my life, my throat burned for hours\n",
            "[0.01174014]\n",
            "\n",
            "\n",
            "for a phone that is as expensive as this one I expect it to be much easier to use than this thing is\n",
            "[0.01524539]\n",
            "\n",
            "\n",
            "we left there very full for a low price so I'd say you just can't go wrong at this place\n",
            "[0.08662499]\n",
            "\n",
            "\n",
            "that place does not have quality meals and it isn't a good place to go for dinner\n",
            "[0.999022]\n",
            "\n",
            "\n"
          ]
        }
      ]
    }
  ]
}