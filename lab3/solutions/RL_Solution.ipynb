{
  "nbformat": 4,
  "nbformat_minor": 0,
  "metadata": {
    "colab": {
      "name": "RL_Solution.ipynb",
      "provenance": [],
      "collapsed_sections": [
        "jrI6q7RmWQam"
      ]
    },
    "kernelspec": {
      "name": "python3",
      "display_name": "Python 3"
    },
    "accelerator": "GPU"
  },
  "cells": [
    {
      "cell_type": "markdown",
      "metadata": {
        "id": "jrI6q7RmWQam"
      },
      "source": [
        "<table align=\"center\">\n",
        "  <td align=\"center\"><a target=\"_blank\" href=\"http://introtodeeplearning.com\">\n",
        "        <img src=\"https://i.ibb.co/Jr88sn2/mit.png\" style=\"padding-bottom:5px;\" />\n",
        "      Visit MIT Deep Learning</a></td>\n",
        "  <td align=\"center\"><a target=\"_blank\" href=\"https://colab.research.google.com/github/aamini/introtodeeplearning/blob/master/lab3/solutions/RL_Solution.ipynb\">\n",
        "        <img src=\"https://i.ibb.co/2P3SLwK/colab.png\"  style=\"padding-bottom:5px;\" />Run in Google Colab</a></td>\n",
        "  <td align=\"center\"><a target=\"_blank\" href=\"https://github.com/aamini/introtodeeplearning/blob/master/lab3/solutions/RL_Solution.ipynb\">\n",
        "        <img src=\"https://i.ibb.co/xfJbPmL/github.png\"  height=\"70px\" style=\"padding-bottom:5px;\"  />View Source on GitHub</a></td>\n",
        "</table>\n",
        "\n",
        "# Copyright Information"
      ]
    },
    {
      "cell_type": "code",
      "metadata": {
        "id": "wkd375upWYok"
      },
      "source": [
        "# Copyright 2021 MIT 6.S191 Introduction to Deep Learning. All Rights Reserved.\n",
        "# \n",
        "# Licensed under the MIT License. You may not use this file except in compliance\n",
        "# with the License. Use and/or modification of this code outside of 6.S191 must\n",
        "# reference:\n",
        "#\n",
        "# © MIT 6.S191: Introduction to Deep Learning\n",
        "# http://introtodeeplearning.com\n",
        "#"
      ],
      "execution_count": 1,
      "outputs": []
    },
    {
      "cell_type": "markdown",
      "metadata": {
        "id": "WoXYKhfZMHiw"
      },
      "source": [
        "# Laboratory 3: Reinforcement Learning\n",
        "\n",
        "Reinforcement learning (RL) is a subset of machine learning which poses learning problems as interactions between agents and environments. It often assumes agents have no prior knowledge of a world, so they must learn to navigate environments by optimizing a reward function. Within an environment, an agent can take certain actions and receive feedback, in the form of positive or negative rewards, with respect to their decision. As such, an agent's feedback loop is somewhat akin to the idea of \"trial and error\", or the manner in which a child might learn to distinguish between \"good\" and \"bad\" actions.\n",
        "\n",
        "In practical terms, our RL agent will interact with the environment by taking an action at each timestep, receiving a corresponding reward, and updating its state according to what it has \"learned\".  \n",
        "\n",
        "![alt text](https://www.kdnuggets.com/images/reinforcement-learning-fig1-700.jpg)\n",
        "\n",
        "While the ultimate goal of reinforcement learning is to teach agents to act in the real, physical world, games provide a convenient proving ground for developing RL algorithms and agents. Games have some properties that make them particularly well suited for RL: \n",
        "\n",
        "1.   In many cases, games have perfectly describable environments. For example, all rules of chess can be formally written and programmed into a chess game simulator;\n",
        "2.   Games are massively parallelizable. Since they do not require running in the real world, simultaneous environments can be run on large data clusters; \n",
        "3.   Simpler scenarios in games enable fast prototyping. This speeds up the development of algorithms that could eventually run in the real-world; and\n",
        "4.   ... Games are fun! \n",
        "\n",
        "In previous labs, we have explored both supervised (with LSTMs, CNNs) and unsupervised / semi-supervised (with VAEs) learning tasks. Reinforcement learning is fundamentally different, in that we are training a deep learning algorithm to govern the actions of our RL agent, that is trying, within its environment, to find the optimal way to achieve a goal. The goal of training an RL agent is to determine the best next step to take to earn the greatest final payoff or return. In this lab, we focus on building a reinforcement learning algorithm to master two different environments with varying complexity. \n",
        "\n",
        "1.   **Cartpole**:   Balance a pole, protruding from a cart, in an upright position by only moving the base left or right. Environment with a low-dimensional observation space.\n",
        "2.   [**Pong**](https://en.wikipedia.org/wiki/Pong): Beat your competitors (whether other AI or humans!) at the game of Pong. Environment with a high-dimensional observation space -- learning directly from raw pixels.\n",
        "\n",
        "Let's get started! First we'll import TensorFlow, the course package, and some dependencies.\n"
      ]
    },
    {
      "cell_type": "code",
      "metadata": {
        "id": "EvdePP-VyVWp",
        "outputId": "990f68f9-2cd0-40ab-a5c9-aa4ad6fcbe9d",
        "colab": {
          "base_uri": "https://localhost:8080/"
        }
      },
      "source": [
        "#Install some dependencies for visualizing the agents\n",
        "!apt-get install -y xvfb python-opengl x11-utils > /dev/null 2>&1\n",
        "!pip install gym pyvirtualdisplay scikit-video > /dev/null 2>&1\n",
        "\n",
        "# Import Tensorflow 2.0\n",
        "%tensorflow_version 2.x\n",
        "import tensorflow as tf\n",
        "\n",
        "import numpy as np\n",
        "import base64, io, time, gym\n",
        "import IPython, functools\n",
        "import matplotlib.pyplot as plt\n",
        "import time\n",
        "from tqdm import tqdm\n",
        "\n",
        "# Download and import the MIT 6.S191 package\n",
        "!pip install mitdeeplearning\n",
        "import mitdeeplearning as mdl"
      ],
      "execution_count": 2,
      "outputs": [
        {
          "output_type": "stream",
          "name": "stdout",
          "text": [
            "Collecting mitdeeplearning\n",
            "  Downloading mitdeeplearning-0.2.0.tar.gz (2.1 MB)\n",
            "\u001b[K     |████████████████████████████████| 2.1 MB 5.2 MB/s \n",
            "\u001b[?25hRequirement already satisfied: numpy in /usr/local/lib/python3.7/dist-packages (from mitdeeplearning) (1.19.5)\n",
            "Requirement already satisfied: regex in /usr/local/lib/python3.7/dist-packages (from mitdeeplearning) (2019.12.20)\n",
            "Requirement already satisfied: tqdm in /usr/local/lib/python3.7/dist-packages (from mitdeeplearning) (4.62.3)\n",
            "Requirement already satisfied: gym in /usr/local/lib/python3.7/dist-packages (from mitdeeplearning) (0.17.3)\n",
            "Requirement already satisfied: pyglet<=1.5.0,>=1.4.0 in /usr/local/lib/python3.7/dist-packages (from gym->mitdeeplearning) (1.5.0)\n",
            "Requirement already satisfied: cloudpickle<1.7.0,>=1.2.0 in /usr/local/lib/python3.7/dist-packages (from gym->mitdeeplearning) (1.3.0)\n",
            "Requirement already satisfied: scipy in /usr/local/lib/python3.7/dist-packages (from gym->mitdeeplearning) (1.4.1)\n",
            "Requirement already satisfied: future in /usr/local/lib/python3.7/dist-packages (from pyglet<=1.5.0,>=1.4.0->gym->mitdeeplearning) (0.16.0)\n",
            "Building wheels for collected packages: mitdeeplearning\n",
            "  Building wheel for mitdeeplearning (setup.py) ... \u001b[?25l\u001b[?25hdone\n",
            "  Created wheel for mitdeeplearning: filename=mitdeeplearning-0.2.0-py3-none-any.whl size=2115442 sha256=688eb7af500e25903b54cde235a70f594d65b15cd9e4e41d261abc995331bcfa\n",
            "  Stored in directory: /root/.cache/pip/wheels/9a/b9/4f/99b7c8c5c75355550b83e1fcfc02956fb40c35eb01e2262877\n",
            "Successfully built mitdeeplearning\n",
            "Installing collected packages: mitdeeplearning\n",
            "Successfully installed mitdeeplearning-0.2.0\n"
          ]
        }
      ]
    },
    {
      "cell_type": "markdown",
      "metadata": {
        "id": "zmrHSiXKTXTY"
      },
      "source": [
        "Before we dive in, let's take a step back and outline our approach, which is generally applicable to reinforcement learning problems in general:\n",
        "\n",
        "1. **Initialize our environment and our agent**: here we will describe the different observations and actions the agent can make in the environemnt.\n",
        "2. **Define our agent's memory**: this will enable the agent to remember its past actions, observations, and rewards.\n",
        "3. **Define a reward function**: describes the reward associated with an action or sequence of actions.\n",
        "4. **Define the learning algorithm**: this will be used to reinforce the agent's good behaviors and discourage bad behaviors.\n"
      ]
    },
    {
      "cell_type": "markdown",
      "metadata": {
        "id": "UT7YL8KBJIIc"
      },
      "source": [
        "# Part 1: Cartpole\n",
        "\n",
        "## 3.1 Define the Cartpole environment and agent\n",
        "\n",
        "### Environment \n",
        "\n",
        "In order to model the environment for both the Cartpole and Pong tasks, we'll be using a toolkit developed by OpenAI called [OpenAI Gym](https://gym.openai.com/). It provides several pre-defined environments for training and testing reinforcement learning agents, including those for classic physics control tasks, Atari video games, and robotic simulations. To access the Cartpole environment, we can use `env = gym.make(\"CartPole-v0\")`, which we gained access to when we imported the `gym` package. We can instantiate different [environments](https://gym.openai.com/envs/#classic_control) by passing the enivronment name to the `make` function.\n",
        "\n",
        "One issue we might experience when developing RL algorithms is that many aspects of the learning process are inherently random: initializing game states, changes in the environment, and the agent's actions. As such, it can be helpful to set a initial \"seed\" for the environment to ensure some level of reproducibility. Much like you might use `numpy.random.seed`, we can call the comparable function in gym, `seed`, with our defined environment to ensure the environment's random variables are initialized the same each time."
      ]
    },
    {
      "cell_type": "code",
      "metadata": {
        "id": "quv9SC0iIYFm",
        "outputId": "c826fa7e-757b-42e0-abd2-ca8e6458d8df",
        "colab": {
          "base_uri": "https://localhost:8080/"
        }
      },
      "source": [
        "### Instantiate the Cartpole environment ###\n",
        "\n",
        "env = gym.make(\"CartPole-v0\")\n",
        "env.seed(1)"
      ],
      "execution_count": 3,
      "outputs": [
        {
          "output_type": "execute_result",
          "data": {
            "text/plain": [
              "[1]"
            ]
          },
          "metadata": {},
          "execution_count": 3
        }
      ]
    },
    {
      "cell_type": "markdown",
      "metadata": {
        "id": "mhEITUcKK455"
      },
      "source": [
        "In Cartpole, a pole is attached by an un-actuated joint to a cart, which moves along a frictionless track. The pole starts upright, and the goal is to prevent it from falling over. The system is controlled by applying a force of +1 or -1 to the cart. A reward of +1 is provided for every timestep that the pole remains upright. The episode ends when the pole is more than 15 degrees from vertical, or the cart moves more than 2.4 units from the center of the track. A visual summary of the cartpole environment is depicted below:\n",
        "\n",
        "<img width=\"400px\" src=\"https://danielpiedrahita.files.wordpress.com/2017/02/cart-pole.png\"></img>\n",
        "\n",
        "Given this setup for the environment and the objective of the game, we can think about: 1) what observations help define the environment's state; 2) what actions the agent can take. \n",
        "\n",
        "First, let's consider the observation space. In this Cartpole environment our observations are:\n",
        "\n",
        "1. Cart position\n",
        "2. Cart velocity\n",
        "3. Pole angle\n",
        "4. Pole rotation rate\n",
        "\n",
        "We can confirm the size of the space by querying the environment's observation space:\n"
      ]
    },
    {
      "cell_type": "code",
      "metadata": {
        "id": "UVJaEcbdIX82",
        "outputId": "e7363fbe-12e5-4559-9da6-2caf05720e23",
        "colab": {
          "base_uri": "https://localhost:8080/"
        }
      },
      "source": [
        "n_observations = env.observation_space\n",
        "print(\"Environment has observation space =\", n_observations)"
      ],
      "execution_count": 4,
      "outputs": [
        {
          "output_type": "stream",
          "name": "stdout",
          "text": [
            "Environment has observation space = Box(-3.4028234663852886e+38, 3.4028234663852886e+38, (4,), float32)\n"
          ]
        }
      ]
    },
    {
      "cell_type": "markdown",
      "metadata": {
        "id": "ZibGgjrALgPM"
      },
      "source": [
        "Second, we consider the action space. At every time step, the agent can move either right or left. Again we can confirm the size of the action space by querying the environment:"
      ]
    },
    {
      "cell_type": "code",
      "metadata": {
        "id": "qc9SIPxBIXrm",
        "outputId": "16faf5ff-c076-4d02-920d-3ca2a90bf37b",
        "colab": {
          "base_uri": "https://localhost:8080/"
        }
      },
      "source": [
        "n_actions = env.action_space.n\n",
        "print(\"Number of possible actions that the agent can choose from =\", n_actions)"
      ],
      "execution_count": 5,
      "outputs": [
        {
          "output_type": "stream",
          "name": "stdout",
          "text": [
            "Number of possible actions that the agent can choose from = 2\n"
          ]
        }
      ]
    },
    {
      "cell_type": "markdown",
      "metadata": {
        "id": "pPfHME8aRKkb"
      },
      "source": [
        "### Cartpole agent\n",
        "\n",
        "Now that we have instantiated the environment and understood the dimensionality of the observation and action spaces, we are ready to define our agent. In deep reinforcement learning, a deep neural network defines the agent. This network will take as input an observation of the environment and output the probability of taking each of the possible actions. Since Cartpole is defined by a low-dimensional observation space, a simple feed-forward neural network should work well for our agent. We will define this using the `Sequential` API.\n"
      ]
    },
    {
      "cell_type": "code",
      "metadata": {
        "id": "W-o_XK4oQ4eu"
      },
      "source": [
        "### Define the Cartpole agent ###\n",
        "\n",
        "# Defines a feed-forward neural network\n",
        "def create_cartpole_model():\n",
        "  model = tf.keras.models.Sequential([\n",
        "      # First Dense layer\n",
        "      tf.keras.layers.Dense(units=32, activation='relu'),\n",
        "\n",
        "      # TODO: Define the last Dense layer, which will provide the network's output.\n",
        "      # Think about the space the agent needs to act in!\n",
        "      tf.keras.layers.Dense(units=n_actions, activation=None) # TODO\n",
        "      # [TODO Dense layer to output action probabilities]\n",
        "  ])\n",
        "  return model\n",
        "\n",
        "cartpole_model = create_cartpole_model()"
      ],
      "execution_count": 6,
      "outputs": []
    },
    {
      "cell_type": "markdown",
      "metadata": {
        "id": "d5D5NSIYS2IW"
      },
      "source": [
        "Now that we have defined the core network architecture, we will define an *action function* that executes a forward pass through the network, given a set of observations, and samples from the output. This sampling from the output probabilities will be used to select the next action for the agent. We will also add support so that the `choose_action` function can handle either a single observation or a batch of observations.\n",
        "\n",
        "**Critically, this action function is totally general -- we will use this function for both Cartpole and Pong, and it is applicable to other RL tasks, as well!**"
      ]
    },
    {
      "cell_type": "code",
      "metadata": {
        "id": "E_vVZRr8Q4R_"
      },
      "source": [
        "### Define the agent's action function ###\n",
        "\n",
        "# Function that takes observations as input, executes a forward pass through model, \n",
        "#   and outputs a sampled action.\n",
        "# Arguments:\n",
        "#   model: the network that defines our agent\n",
        "#   observation: observation(s) which is/are fed as input to the model\n",
        "#   single: flag as to whether we are handling a single observation or batch of\n",
        "#     observations, provided as an np.array\n",
        "# Returns:\n",
        "#   action: choice of agent action\n",
        "def choose_action(model, observation, single=True):\n",
        "  # add batch dimension to the observation if only a single example was provided\n",
        "  observation = np.expand_dims(observation, axis=0) if single else observation\n",
        "\n",
        "  '''TODO: feed the observations through the model to predict the log probabilities of each possible action.'''\n",
        "  logits = model.predict(observation) # TODO\n",
        "  # logits = model.predict('''TODO''')\n",
        "  \n",
        "  '''TODO: Choose an action from the categorical distribution defined by the log \n",
        "      probabilities of each possible action.'''\n",
        "  action = tf.random.categorical(logits, num_samples=1)\n",
        "  # action = ['''TODO''']\n",
        "\n",
        "  action = action.numpy().flatten()\n",
        "\n",
        "  return action[0] if single else action"
      ],
      "execution_count": 7,
      "outputs": []
    },
    {
      "cell_type": "markdown",
      "metadata": {
        "id": "_tR9uAWcTnkr"
      },
      "source": [
        "## 3.2 Define the agent's memory\n",
        "\n",
        "Now that we have instantiated the environment and defined the agent network architecture and action function, we are ready to move on to the next step in our RL workflow:\n",
        "1. **Initialize our environment and our agent**: here we will describe the different observations and actions the agent can make in the environemnt.\n",
        "2. **Define our agent's memory**: this will enable the agent to remember its past actions, observations, and rewards.\n",
        "3. **Define the learning algorithm**: this will be used to reinforce the agent's good behaviors and discourage bad behaviors.\n",
        "\n",
        "In reinforcement learning, training occurs alongside the agent's acting in the environment; an *episode* refers to a sequence of actions that ends in some terminal state, such as the pole falling down or the cart crashing. The agent will need to remember all of its observations and actions, such that once an episode ends, it can learn to \"reinforce\" the good actions and punish the undesirable actions via training. Our first step is to define a simple `Memory` buffer that contains the agent's observations, actions, and received rewards from a given episode. We will also add support to combine a list of `Memory` objects into a single `Memory`. This will be very useful for batching, which will help you accelerate training later on in the lab.\n",
        "\n",
        "**Once again, note the modularity of this memory buffer -- it can and will be applied to other RL tasks as well!**"
      ]
    },
    {
      "cell_type": "code",
      "metadata": {
        "id": "8MM6JwXVQ4JG"
      },
      "source": [
        "### Agent Memory ###\n",
        "\n",
        "class Memory:\n",
        "  def __init__(self): \n",
        "      self.clear()\n",
        "\n",
        "  # Resets/restarts the memory buffer\n",
        "  def clear(self): \n",
        "      self.observations = []\n",
        "      self.actions = []\n",
        "      self.rewards = []\n",
        "\n",
        "  # Add observations, actions, rewards to memory\n",
        "  def add_to_memory(self, new_observation, new_action, new_reward): \n",
        "      self.observations.append(new_observation)\n",
        "      '''TODO: update the list of actions with new action'''\n",
        "      self.actions.append(new_action) # TODO\n",
        "      # ['''TODO''']\n",
        "      '''TODO: update the list of rewards with new reward'''\n",
        "      self.rewards.append(new_reward) # TODO\n",
        "      # ['''TODO''']\n",
        "\n",
        "# Helper function to combine a list of Memory objects into a single Memory.\n",
        "#     This will be very useful for batching.\n",
        "def aggregate_memories(memories):\n",
        "  batch_memory = Memory()\n",
        "  \n",
        "  for memory in memories:\n",
        "    for step in zip(memory.observations, memory.actions, memory.rewards):\n",
        "      batch_memory.add_to_memory(*step)\n",
        "  \n",
        "  return batch_memory\n",
        "\n",
        "# Instantiate a single Memory buffer\n",
        "memory = Memory()"
      ],
      "execution_count": 8,
      "outputs": []
    },
    {
      "cell_type": "markdown",
      "metadata": {
        "id": "D4YhtPaUVj5m"
      },
      "source": [
        "## 3.3 Reward function\n",
        "\n",
        "We're almost ready to begin the learning algorithm for our agent! The next step is to compute the rewards of our agent as it acts in the environment. Since we (and the agent) is uncertain about if and when the game or task will end (i.e., when the pole will fall), it is useful to emphasize getting rewards **now** rather than later in the future -- this is the idea of discounting. This is a similar concept to discounting money in the case of interest. Recall from lecture, we use reward discount to give more preference at getting rewards now rather than later in the future. The idea of discounting rewards is similar to discounting money in the case of interest.\n",
        "\n",
        "To compute the expected cumulative reward, known as the **return**, at a given timestep in a learning episode, we sum the discounted rewards expected at that time step $t$, within a learning episode, and projecting into the future. We define the return (cumulative reward) at a time step $t$, $R_{t}$ as:\n",
        "\n",
        ">$R_{t}=\\sum_{k=0}^\\infty\\gamma^kr_{t+k}$\n",
        "\n",
        "where  $0 < \\gamma < 1$ is the discount factor and $r_{t}$ is the reward at time step $t$, and the index $k$ increments projection into the future within a single learning episode. Intuitively, you can think of this function as depreciating any rewards received at later time steps, which will force the agent prioritize getting rewards now. Since we can't extend episodes to infinity, in practice the computation will be limited to the number of timesteps in an episode -- after that the reward is assumed to be zero.\n",
        "\n",
        "Take note of the form of this sum -- we'll have to be clever about how we implement this function. Specifically, we'll need to initialize an array of zeros, with length of the number of time steps, and fill it with the real discounted reward values as we loop through the rewards from the episode, which will have been saved in the agents memory. What we ultimately care about is which actions are better relative to other actions taken in that episode -- so, we'll normalize our computed rewards, using the mean and standard deviation of the rewards across the learning episode.\n"
      ]
    },
    {
      "cell_type": "code",
      "metadata": {
        "id": "5_Q2OFYtQ32X"
      },
      "source": [
        "### Reward function ###\n",
        "\n",
        "# Helper function that normalizes an np.array x\n",
        "def normalize(x):\n",
        "  x -= np.mean(x)\n",
        "  x /= np.std(x)\n",
        "  return x.astype(np.float32)\n",
        "\n",
        "# Compute normalized, discounted, cumulative rewards (i.e., return)\n",
        "# Arguments:\n",
        "#   rewards: reward at timesteps in episode\n",
        "#   gamma: discounting factor\n",
        "# Returns:\n",
        "#   normalized discounted reward\n",
        "def discount_rewards(rewards, gamma=0.95): \n",
        "  discounted_rewards = np.zeros_like(rewards)\n",
        "  R = 0\n",
        "  for t in reversed(range(0, len(rewards))):\n",
        "      # update the total discounted reward\n",
        "      R = R * gamma + rewards[t]\n",
        "      discounted_rewards[t] = R\n",
        "      \n",
        "  return normalize(discounted_rewards)"
      ],
      "execution_count": 9,
      "outputs": []
    },
    {
      "cell_type": "markdown",
      "metadata": {
        "id": "QzbY-mjGYcmt"
      },
      "source": [
        "## 3.4 Learning algorithm\n",
        "\n",
        "Now we can start to define the learing algorithm which will be used to reinforce good behaviors of the agent and discourage bad behaviours. In this lab, we will focus on *policy gradient* methods which aim to **maximize** the likelihood of actions that result in large rewards. Equivalently, this means that we want to **minimize** the negative likelihood of these same actions. We achieve this by simply **scaling** the probabilities by their associated rewards -- effectively amplifying the likelihood of actions that resujlt in large rewards.\n",
        "\n",
        "Since the log function is monotonically increasing, this means that minimizing **negative likelihood** is equivalent to minimizing **negative log-likelihood**.  Recall that we can easily compute the negative log-likelihood of a discrete action by evaluting its [softmax cross entropy](https://www.tensorflow.org/api_docs/python/tf/nn/sparse_softmax_cross_entropy_with_logits). Like in supervised learning, we can use stochastic gradient descent methods to achieve the desired minimization. \n",
        "\n",
        "Let's begin by defining the loss function."
      ]
    },
    {
      "cell_type": "code",
      "metadata": {
        "id": "fsgZ3IDCY_Zn"
      },
      "source": [
        "### Loss function ###\n",
        "\n",
        "# Arguments:\n",
        "#   logits: network's predictions for actions to take\n",
        "#   actions: the actions the agent took in an episode\n",
        "#   rewards: the rewards the agent received in an episode\n",
        "# Returns:\n",
        "#   loss\n",
        "def compute_loss(logits, actions, rewards): \n",
        "  '''TODO: complete the function call to compute the negative log probabilities'''\n",
        "  neg_logprob = tf.nn.sparse_softmax_cross_entropy_with_logits(\n",
        "      logits=logits, labels=actions) # TODO\n",
        "  # neg_logprob = tf.nn.sparse_softmax_cross_entropy_with_logits(\n",
        "  #    logits='''TODO''', labels='''TODO''')\n",
        "  \n",
        "  '''TODO: scale the negative log probability by the rewards'''\n",
        "  loss = tf.reduce_mean( neg_logprob * rewards ) # TODO\n",
        "  # loss = tf.reduce_mean('''TODO''')\n",
        "  return loss"
      ],
      "execution_count": 10,
      "outputs": []
    },
    {
      "cell_type": "markdown",
      "metadata": {
        "id": "Rr5vQ9fqbPpp"
      },
      "source": [
        "Now let's use the loss function to define a training step of our learning algorithm:"
      ]
    },
    {
      "cell_type": "code",
      "metadata": {
        "id": "_50ada7nbZ7L"
      },
      "source": [
        "### Training step (forward and backpropagation) ###\n",
        "\n",
        "def train_step(model, optimizer, observations, actions, discounted_rewards):\n",
        "  with tf.GradientTape() as tape:\n",
        "      # Forward propagate through the agent network\n",
        "      logits = model(observations)\n",
        "\n",
        "      '''TODO: call the compute_loss function to compute the loss'''\n",
        "      loss = compute_loss(logits, actions, discounted_rewards) # TODO\n",
        "      # loss = compute_loss('''TODO''', '''TODO''', '''TODO''')\n",
        "\n",
        "  '''TODO: run backpropagation to minimize the loss using the tape.gradient method'''\n",
        "  grads = tape.gradient(loss, model.trainable_variables) # TODO\n",
        "  # grads = tape.gradient('''TODO''', model.trainable_variables)\n",
        "  optimizer.apply_gradients(zip(grads, model.trainable_variables))\n"
      ],
      "execution_count": 11,
      "outputs": []
    },
    {
      "cell_type": "markdown",
      "metadata": {
        "id": "XsjKXh6BcgjR"
      },
      "source": [
        "## 3.5 Run cartpole!\n",
        "\n",
        "Having had no prior knowledge of the environment, the agent will begin to learn how to balance the pole on the cart based only on the feedback received from the environment! Having defined how our agent can move, how it takes in new observations, and how it updates its state, we'll see how it gradually learns a policy of actions to optimize balancing the pole as long as possible. To do this, we'll track how the rewards evolve as a function of training -- how should the rewards change as training progresses?"
      ]
    },
    {
      "cell_type": "code",
      "metadata": {
        "id": "XmOzc2rrcn8Q",
        "outputId": "5439ae1f-ffae-4fd7-b050-a851be3cbab9",
        "colab": {
          "base_uri": "https://localhost:8080/",
          "height": 547
        }
      },
      "source": [
        "### Cartpole training! ###\n",
        "\n",
        "# Learning rate and optimizer\n",
        "learning_rate = 1e-3\n",
        "optimizer = tf.keras.optimizers.Adam(learning_rate)\n",
        "\n",
        "# instantiate cartpole agent\n",
        "cartpole_model = create_cartpole_model()\n",
        "\n",
        "# to track our progress\n",
        "smoothed_reward = mdl.util.LossHistory(smoothing_factor=0.9)\n",
        "plotter = mdl.util.PeriodicPlotter(sec=2, xlabel='Iterations', ylabel='Rewards')\n",
        "\n",
        "if hasattr(tqdm, '_instances'): tqdm._instances.clear() # clear if it exists\n",
        "for i_episode in range(500):\n",
        "\n",
        "  plotter.plot(smoothed_reward.get())\n",
        "\n",
        "  # Restart the environment\n",
        "  observation = env.reset()\n",
        "  memory.clear()\n",
        "\n",
        "  while True:\n",
        "      # using our observation, choose an action and take it in the environment\n",
        "      action = choose_action(cartpole_model, observation)\n",
        "      next_observation, reward, done, info = env.step(action)\n",
        "      # add to memory\n",
        "      memory.add_to_memory(observation, action, reward)\n",
        "      \n",
        "      # is the episode over? did you crash or do so well that you're done?\n",
        "      if done:\n",
        "          # determine total reward and keep a record of this\n",
        "          total_reward = sum(memory.rewards)\n",
        "          smoothed_reward.append(total_reward)\n",
        "          \n",
        "          # initiate training - remember we don't know anything about how the \n",
        "          #   agent is doing until it has crashed!\n",
        "          train_step(cartpole_model, optimizer, \n",
        "                     observations=np.vstack(memory.observations),\n",
        "                     actions=np.array(memory.actions),\n",
        "                     discounted_rewards = discount_rewards(memory.rewards))\n",
        "          \n",
        "          # reset the memory\n",
        "          memory.clear()\n",
        "          break\n",
        "      # update our observatons\n",
        "      observation = next_observation"
      ],
      "execution_count": 12,
      "outputs": [
        {
          "output_type": "display_data",
          "data": {
            "image/png": "[encoded data removed]",
            "text/plain": [
              "<Figure size 432x288 with 1 Axes>"
            ]
          },
          "metadata": {}
        },
        {
          "output_type": "display_data",
          "data": {
            "image/png": "[encoded data removed]",
            "text/plain": [
              "<Figure size 432x288 with 1 Axes>"
            ]
          },
          "metadata": {
            "needs_background": "light"
          }
        }
      ]
    },
    {
      "cell_type": "markdown",
      "metadata": {
        "id": "mkcUtGF1VE-K"
      },
      "source": [
        "To get a sense of how our agent did, we can save a video of the trained model working on balancing the pole. Realize that this is a brand new environment that the agent has not seen before!\n",
        "\n",
        "Let's display the saved video to watch how our agent did!\n"
      ]
    },
    {
      "cell_type": "code",
      "metadata": {
        "id": "PAYBkv6Zbk0J",
        "outputId": "84f2a62c-d951-4ded-f211-a4e7d3b134dd",
        "colab": {
          "base_uri": "https://localhost:8080/",
          "height": 438
        }
      },
      "source": [
        "saved_cartpole = mdl.lab3.save_video_of_model(cartpole_model, \"CartPole-v0\")\n",
        "mdl.lab3.play_video(saved_cartpole)"
      ],
      "execution_count": 13,
      "outputs": [
        {
          "output_type": "stream",
          "name": "stdout",
          "text": [
            "Successfully saved 97 frames into CartPole-v0.mp4!\n"
          ]
        },
        {
          "output_type": "execute_result",
          "data": {
            "text/html": [
              "\n",
              "        <video controls >\n",
              "            <source src=\"data:video/mp4;base64,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\" type=\"video/mp4\" />\n",
              "        </video>"
            ],
            "text/plain": [
              "<IPython.core.display.HTML object>"
            ]
          },
          "metadata": {},
          "execution_count": 13
        }
      ]
    },
    {
      "cell_type": "markdown",
      "metadata": {
        "id": "CSbVNDpaVb3_"
      },
      "source": [
        "How does the agent perform? Could you train it for shorter amounts of time and still perform well? Do you think that training longer would help even more? "
      ]
    },
    {
      "cell_type": "markdown",
      "metadata": {
        "id": "Eu6Mqxc720ST"
      },
      "source": [
        "#Part 2: Pong\n",
        "\n",
        "In Cartpole, we dealt with an environment that was static -- in other words, it didn't change over time. What happens if our environment is dynamic and unpredictable? Well that's exactly the case in [Pong](https://en.wikipedia.org/wiki/Pong), since part of the environment is the opposing player. We don't know how our opponent will act or react to our actions, so the complexity of our problem increases. It also becomes much more interesting, since we can compete to beat our opponent. RL provides a powerful framework for training AI systems with the ability to handle and interact with dynamic, unpredictable environments. In this part of the lab, we'll use the tools and workflow we explored in Part 1 to build an RL agent capable of playing the game of Pong.\n"
      ]
    },
    {
      "cell_type": "markdown",
      "metadata": {
        "id": "srZ4YE29isuA"
      },
      "source": [
        "## 3.6 Define and inspect the Pong environment\n",
        "\n",
        "As with Cartpole, we'll instantiate the Pong environment in the OpenAI gym, using a seed of 1."
      ]
    },
    {
      "cell_type": "code",
      "metadata": {
        "id": "lbYHLr66i15n"
      },
      "source": [
        "def create_pong_env(): \n",
        "  return gym.make(\"Pong-v0\", frameskip=5)\n",
        "env = create_pong_env()\n",
        "env.seed(1); # for reproducibility"
      ],
      "execution_count": null,
      "outputs": []
    },
    {
      "cell_type": "markdown",
      "metadata": {
        "id": "52uZ2Xhyi-MW"
      },
      "source": [
        "Let's next consider the observation space for the Pong environment. Instead of four physical descriptors of the cart-pole setup, in the case of Pong our observations are the individual video frames (i.e., images) that depict the state of the board. Thus, the observations are 210x160 RGB images (arrays of shape (210,160,3)).\n",
        "\n",
        "We can again confirm the size of the observation space by query:"
      ]
    },
    {
      "cell_type": "code",
      "metadata": {
        "id": "0yX4GWvxjnHS"
      },
      "source": [
        "print(\"Environment has observation space =\", env.observation_space)"
      ],
      "execution_count": null,
      "outputs": []
    },
    {
      "cell_type": "markdown",
      "metadata": {
        "id": "uuEC2TdSjx9D"
      },
      "source": [
        "In Pong, at every time step, the agent (which controls the paddle) has six actions to choose from: no-op (no operation), move right, move left, fire, fire right, and fire left. Let's confirm the size of the action space by querying the environment:"
      ]
    },
    {
      "cell_type": "code",
      "metadata": {
        "id": "Iuy9oPc1kag3"
      },
      "source": [
        "n_actions = env.action_space.n\n",
        "print(\"Number of possible actions that the agent can choose from =\", n_actions)"
      ],
      "execution_count": null,
      "outputs": []
    },
    {
      "cell_type": "markdown",
      "metadata": {
        "id": "9-fghDRigUE5"
      },
      "source": [
        "## 3.7 Define the Pong agent\n",
        "\n",
        "As before, we'll use a neural network to define our agent. What network architecture do you think would be especially well suited to this game? Since our observations are now in the form of images, we'll add convolutional layers to the network to increase the learning capacity of our network. Note that you will be tasked with completing a template CNN architecture for the Pong agent -- but you should certainly experiment beyond this template to try to optimize performance!"
      ]
    },
    {
      "cell_type": "code",
      "metadata": {
        "id": "IJiqbFYpgYRH"
      },
      "source": [
        "### Define the Pong agent ###\n",
        "\n",
        "# Functionally define layers for convenience\n",
        "# All convolutional layers will have ReLu activation\n",
        "Conv2D = functools.partial(tf.keras.layers.Conv2D, padding='same', activation='relu')\n",
        "Flatten = tf.keras.layers.Flatten\n",
        "Dense = tf.keras.layers.Dense\n",
        "\n",
        "# Defines a CNN for the Pong agent\n",
        "def create_pong_model():\n",
        "  model = tf.keras.models.Sequential([\n",
        "    # Convolutional layers\n",
        "    # First, 32 5x5 filters and 2x2 stride\n",
        "    Conv2D(filters=32, kernel_size=5, strides=2),\n",
        "\n",
        "    # TODO: define convolutional layers with 48 5x5 filters and 2x2 stride\n",
        "    Conv2D(filters=48, kernel_size=5, strides=2), # TODO\n",
        "    # Conv2D('''TODO'''),\n",
        "\n",
        "    # TODO: define two convolutional layers with 64 3x3 filters and 2x2 stride\n",
        "    Conv2D(filters=64, kernel_size=3, strides=2), # TODO\n",
        "    Conv2D(filters=64, kernel_size=3, strides=2),\n",
        "    # Conv2D('''TODO'''),\n",
        "\n",
        "    Flatten(),\n",
        "    \n",
        "    # Fully connected layer and output\n",
        "    Dense(units=128, activation='relu'),\n",
        "    # TODO: define the output dimension of the last Dense layer. \n",
        "    # Pay attention to the space the agent needs to act in\n",
        "    Dense(units=n_actions, activation=None) # TODO\n",
        "    # Dense('''TODO''')\n",
        "  \n",
        "  ])\n",
        "  return model\n",
        "\n",
        "pong_model = create_pong_model()"
      ],
      "execution_count": null,
      "outputs": []
    },
    {
      "cell_type": "markdown",
      "metadata": {
        "id": "yaeZ067olFiJ"
      },
      "source": [
        "Since we've already defined the action function, `choose_action(model, observation)`, we don't need to define it again. Instead, we'll be able to reuse it later on by passing in our new model we've just created, `pong_model`. This is awesome because our action function provides a modular and generalizable method for all sorts of RL agents!"
      ]
    },
    {
      "cell_type": "markdown",
      "metadata": {
        "id": "l0RvqOVkmc2r"
      },
      "source": [
        "## 3.8 Pong-specific functions\n",
        "\n",
        "In Part 1 (Cartpole), we implemented some key functions and classes to build and train our RL agent -- `choose_action(model, observation)` and the `Memory` class, for example. However, in getting ready to apply these to a new game like Pong, we might need to make some slight modifications. \n",
        "\n",
        "Namely, we need to think about what happens when a game ends. In Pong, we know a game has ended if the reward is +1 (we won!) or -1 (we lost unfortunately). Otherwise, we expect the reward at a timestep to be zero -- the players (or agents) are just playing eachother. So, after a game ends, we will need to reset the reward to zero when a game ends. This will result in a modified reward function."
      ]
    },
    {
      "cell_type": "code",
      "metadata": {
        "id": "iEZG2o50luLu"
      },
      "source": [
        "### Pong reward function ###\n",
        "\n",
        "# Compute normalized, discounted rewards for Pong (i.e., return)\n",
        "# Arguments:\n",
        "#   rewards: reward at timesteps in episode\n",
        "#   gamma: discounting factor. Note increase to 0.99 -- rate of depreciation will be slower.\n",
        "# Returns:\n",
        "#   normalized discounted reward\n",
        "def discount_rewards(rewards, gamma=0.99): \n",
        "  discounted_rewards = np.zeros_like(rewards)\n",
        "  R = 0\n",
        "  for t in reversed(range(0, len(rewards))):\n",
        "      # NEW: Reset the sum if the reward is not 0 (the game has ended!)\n",
        "      if rewards[t] != 0:\n",
        "        R = 0\n",
        "      # update the total discounted reward as before\n",
        "      R = R * gamma + rewards[t]\n",
        "      discounted_rewards[t] = R\n",
        "      \n",
        "  return normalize(discounted_rewards)"
      ],
      "execution_count": null,
      "outputs": []
    },
    {
      "cell_type": "markdown",
      "metadata": {
        "id": "HopLpb4IoOqA"
      },
      "source": [
        "Additionally, we have to consider the nature of the observations in the Pong environment, and how they will be fed into our network. Our observations in this case are images. Before we input an image into our network, we'll do a bit of pre-processing to crop and scale, clean up the background colors to a single color, and set the important game elements to a single color. Let's use this function to visualize what a single observation might look like before and after pre-processing."
      ]
    },
    {
      "cell_type": "code",
      "metadata": {
        "id": "no5IIYtFm8pI"
      },
      "source": [
        "observation = env.reset()\n",
        "for i in range(30):\n",
        "  action = np.random.choice(n_actions)\n",
        "  observation, _,_,_ = env.step(action)\n",
        "observation_pp = mdl.lab3.preprocess_pong(observation)\n",
        "\n",
        "f = plt.figure(figsize=(10,3))\n",
        "ax = f.add_subplot(121)\n",
        "ax2 = f.add_subplot(122)\n",
        "ax.imshow(observation); ax.grid(False);\n",
        "ax2.imshow(np.squeeze(observation_pp)); ax2.grid(False); plt.title('Preprocessed Observation');"
      ],
      "execution_count": null,
      "outputs": []
    },
    {
      "cell_type": "markdown",
      "metadata": {
        "id": "YBLVfdpv7ajG"
      },
      "source": [
        "Let's also consider the fact that, unlike CartPole, the Pong environment has an additional element of uncertainty -- regardless of what action the agent takes, we don't know how the opponent will play. That is, the environment is changing over time, based on *both* the actions we take and the actions of the opponent, which result in motion of the ball and motion of the paddles.\n",
        "\n",
        "Therefore, to capture the dynamics, we also consider how the environment changes by looking at the difference between a previous observation (image frame) and the current observation (image frame). We've implemented a helper function, `pong_change`, that pre-processes two frames, calculates the change between the two, and then re-normalizes the values. Let's inspect this to visualize how the environment can change:"
      ]
    },
    {
      "cell_type": "code",
      "metadata": {
        "id": "ItWrUwM87ZBw"
      },
      "source": [
        "next_observation, _,_,_ = env.step(np.random.choice(n_actions))\n",
        "diff = mdl.lab3.pong_change(observation, next_observation)\n",
        "\n",
        "f, ax = plt.subplots(1, 3, figsize=(15,15))\n",
        "for a in ax:\n",
        "  a.grid(False)\n",
        "  a.axis(\"off\")\n",
        "ax[0].imshow(observation); ax[0].set_title('Previous Frame');\n",
        "ax[1].imshow(next_observation); ax[1].set_title('Current Frame');\n",
        "ax[2].imshow(np.squeeze(diff)); ax[2].set_title('Difference (Model Input)');"
      ],
      "execution_count": null,
      "outputs": []
    },
    {
      "cell_type": "markdown",
      "metadata": {
        "id": "bYwIWC-Cz8F2"
      },
      "source": [
        "What do you notice? How and why might these pre-processing changes be important for training our RL algorithm? How and why might consideration of the difference between frames be important for training and performance?"
      ]
    },
    {
      "cell_type": "markdown",
      "metadata": {
        "id": "YiJLu9SEAJu6"
      },
      "source": [
        "### Rollout function\n",
        "\n",
        "We're now set up to define our key action algorithm for the game of Pong, which will ultimately be used to train our Pong agent. This function can be thought of as a \"rollout\", where the agent will 1) make an observation of the environment, 2) select an action based on its state in the environment, 3) execute a policy based on that action, resulting in some reward and a change to the environment, and 4) finally add memory of that action-reward to its `Memory` buffer. We will define this algorithm in the `collect_rollout` function below, and use it soon within a training block.\n",
        "\n",
        "Earlier you visually inspected the raw environment frames, the pre-processed frames, and the difference between previous and current frames. As you may have gathered, in a dynamic game like Pong, it can actually be helpful to consider the difference between two consecutive observations. This gives us information about the movement between frames -- how the game is changing. We will do this using the `pong_change` function we explored above (which also pre-processes frames for us).\n",
        "\n",
        "We will use differences between frames as the input on which actions will be selected. These observation changes will be forward propagated through our Pong agent, the CNN network model, which will then predict the next action to take based on this observation. The raw reward will be computed. The observation, action, and reward will be recorded into memory. This will loop until a particular game ends -- the rollout is completed.\n",
        "\n",
        "For now, we will define `collect_rollout` such that a batch of observations (i.e., from a batch of agent-environment worlds) can be processed serially (i.e., one at a time, in sequence). We will later utilize a parallelized version of this function that will parallelize batch processing to help speed up training! Let's get to it."
      ]
    },
    {
      "cell_type": "code",
      "metadata": {
        "id": "CH9C4JXUOyv-"
      },
      "source": [
        "### Rollout function ###\n",
        "\n",
        "# Key steps for agent's operation in the environment, until completion of a rollout.\n",
        "# An observation is drawn; the agent (controlled by model) selects an action;\n",
        "#   the agent executes that action in the environment and collects rewards;\n",
        "#   information is added to memory.\n",
        "# This is repeated until the completion of the rollout -- the Pong game ends.\n",
        "# Processes multiple batches serially.\n",
        "#\n",
        "# Arguments:\n",
        "#   batch_size: number of batches, to be processed serially\n",
        "#   env: environment\n",
        "#   model: Pong agent model\n",
        "#   choose_action: choose_action function\n",
        "# Returns:\n",
        "#   memories: array of Memory buffers, of length batch_size, corresponding to the\n",
        "#     episode executions from the rollout\n",
        "def collect_rollout(batch_size, env, model, choose_action):\n",
        "\n",
        "  # Holder array for the Memory buffers\n",
        "  memories = []\n",
        "\n",
        "  # Process batches serially by iterating through them\n",
        "  for b in range(batch_size):\n",
        "\n",
        "    # Instantiate Memory buffer, restart the environment\n",
        "    memory = Memory()\n",
        "    next_observation = env.reset()\n",
        "    previous_frame = next_observation\n",
        "    done = False # tracks whether the episode (game) is done or not\n",
        "\n",
        "    while not done:\n",
        "\n",
        "      current_frame = next_observation\n",
        "\n",
        "      '''TODO: determine the observation change.\n",
        "      Hint: this is the difference between the past two frames'''\n",
        "      frame_diff = mdl.lab3.pong_change(previous_frame, current_frame) # TODO\n",
        "      # frame_diff = # TODO\n",
        "\n",
        "      '''TODO: choose an action for the pong model, using the frame difference, and evaluate'''\n",
        "      action = choose_action(model, frame_diff) # TODO \n",
        "      # action = # TODO\n",
        "      # Take the chosen action\n",
        "      next_observation, reward, done, info = env.step(action)\n",
        "\n",
        "      '''TODO: save the observed frame difference, the action that was taken, and the resulting reward!'''\n",
        "      memory.add_to_memory(frame_diff, action, reward) # TODO\n",
        "\n",
        "      previous_frame = current_frame\n",
        "    \n",
        "    # Add the memory from this batch to the array of all Memory buffers\n",
        "    memories.append(memory)\n",
        "  \n",
        "  return memories"
      ],
      "execution_count": null,
      "outputs": []
    },
    {
      "cell_type": "markdown",
      "metadata": {
        "id": "NGIJvFUHHbDi"
      },
      "source": [
        "To get a sense of what is encapsulated by `collect_rollout`, we will instantiate an *untrained* Pong model, run a single rollout using this model, save the memory, and play back the observations the model sees. Note that these will be frame *differences*."
      ]
    },
    {
      "cell_type": "code",
      "metadata": {
        "id": "msNBRcULHbrd"
      },
      "source": [
        "### Rollout with untrained Pong model ###\n",
        "\n",
        "# Model\n",
        "test_model = create_pong_model()\n",
        "\n",
        "# Rollout with single batch\n",
        "single_batch_size = 1\n",
        "memories = collect_rollout(single_batch_size, env, test_model, choose_action)\n",
        "rollout_video = mdl.lab3.save_video_of_memory(memories[0], \"Pong-Random-Agent.mp4\")\n",
        "\n",
        "# Play back video of memories\n",
        "mdl.lab3.play_video(rollout_video)"
      ],
      "execution_count": null,
      "outputs": []
    },
    {
      "cell_type": "markdown",
      "metadata": {
        "id": "mRqcaDQ1pm3x"
      },
      "source": [
        "## 3.9 Training Pong\n",
        "\n",
        "We're now all set up to start training our RL algorithm and agent for the game of Pong! We've already defined the following:\n",
        "\n",
        "1. Loss function, `compute_loss`, and backpropagation step, `train_step`. Our loss function employs policy gradient learning. `train_step` executes a single forward pass and backpropagation gradient update.\n",
        "2. RL agent algorithm: `collect_rollout`. Serially processes batches of episodes, executing actions in the environment, collecting rewards, and saving these to `Memory`.\n",
        "\n",
        "We will use these functions to train the Pong agent.\n",
        "\n",
        "In the training block, episodes will be executed by agents in the environment via the RL algorithm defined in the `collect_rollout` function. Since RL agents start off with literally zero knowledge of their environment, it can often take a long time to train them and achieve stable behavior. To alleviate this, we have implemented a parallelized version of the RL algorithm, `parallelized_collect_rollout`, which you can use to accelerate training across multiple parallel batches.\n",
        "\n",
        "For training, information in the `Memory` buffer from all these batches will be aggregated (after all episodes, i.e., games, end). Discounted rewards will be computed, and this information will be used to execute a training step. Memory will be cleared, and we will do it all over again!\n",
        "\n",
        "Let's run the code block to train our Pong agent. Note that, even with parallelization, completing training and getting stable behavior will take quite a bit of time (estimated at least a couple of hours). We will again visualize the evolution of the total reward as a function of training to get a sense of how the agent is learning."
      ]
    },
    {
      "cell_type": "code",
      "metadata": {
        "id": "FaEHTMRVMRXP"
      },
      "source": [
        "### Hyperparameters and setup for training ###\n",
        "# Rerun this cell if you want to re-initialize the training process\n",
        "#   (i.e., create new model, reset loss, etc)\n",
        "\n",
        "# Hyperparameters\n",
        "learning_rate = 1e-3\n",
        "MAX_ITERS = 1000 # increase the maximum to train longer\n",
        "batch_size = 5 # number of batches to run\n",
        "\n",
        "# Model, optimizer\n",
        "pong_model = create_pong_model()\n",
        "optimizer = tf.keras.optimizers.Adam(learning_rate)\n",
        "iteration = 0 # counter for training steps\n",
        "\n",
        "# Plotting\n",
        "smoothed_reward = mdl.util.LossHistory(smoothing_factor=0.9)\n",
        "smoothed_reward.append(0) # start the reward at zero for baseline comparison\n",
        "plotter = mdl.util.PeriodicPlotter(sec=15, xlabel='Iterations', ylabel='Win Percentage (%)')\n",
        "\n",
        "# Batches and environment\n",
        "# To parallelize batches, we need to make multiple copies of the environment.\n",
        "envs = [create_pong_env() for _ in range(batch_size)] # For parallelization"
      ],
      "execution_count": null,
      "outputs": []
    },
    {
      "cell_type": "code",
      "metadata": {
        "id": "xCwyQQrPnkZG"
      },
      "source": [
        "### Training Pong ###\n",
        "# You can run this cell and stop it anytime in the middle of training to save \n",
        "#   a progress video (see next codeblock). To continue training, simply run this \n",
        "#   cell again, your model will pick up right where it left off. To reset training,\n",
        "#   you need to run the cell above. \n",
        "\n",
        "games_to_win_episode = 21 # this is set by OpenAI gym and cannot be changed.\n",
        "\n",
        "# Main training loop\n",
        "while iteration < MAX_ITERS:\n",
        "\n",
        "  plotter.plot(smoothed_reward.get())\n",
        "\n",
        "  tic = time.time()\n",
        "  # RL agent algorithm. By default, uses serial batch processing.\n",
        "  # memories = collect_rollout(batch_size, env, pong_model, choose_action)\n",
        "\n",
        "  # Parallelized version. Uncomment line below (and comment out line above) to parallelize\n",
        "  memories = mdl.lab3.parallelized_collect_rollout(batch_size, envs, pong_model, choose_action)\n",
        "  print(time.time()-tic)\n",
        "\n",
        "  # Aggregate memories from multiple batches\n",
        "  batch_memory = aggregate_memories(memories)\n",
        "\n",
        "  # Track performance based on win percentage (calculated from rewards)\n",
        "  total_wins = sum(np.array(batch_memory.rewards) == 1)\n",
        "  total_games = sum(np.abs(np.array(batch_memory.rewards)))\n",
        "  win_rate = total_wins / total_games\n",
        "  smoothed_reward.append(100 * win_rate)\n",
        "  \n",
        "  # Training!\n",
        "  train_step(\n",
        "      pong_model,\n",
        "      optimizer,\n",
        "      observations = np.stack(batch_memory.observations, 0),\n",
        "      actions = np.array(batch_memory.actions),\n",
        "      discounted_rewards = discount_rewards(batch_memory.rewards)\n",
        "  )\n",
        "\n",
        "  # Save a video of progress -- this can be played back later\n",
        "  if iteration % 100 == 0:\n",
        "    mdl.lab3.save_video_of_model(pong_model, \"Pong-v0\", \n",
        "                                                suffix=\"_\"+str(iteration))\n",
        "    \n",
        "  iteration += 1 # Mark next episode"
      ],
      "execution_count": null,
      "outputs": []
    },
    {
      "cell_type": "markdown",
      "metadata": {
        "id": "8LiEY5Y_ts-Z"
      },
      "source": [
        "Finally we can put our trained agent to the test! It will play in a newly instantiated Pong environment against the \"computer\", a base AI system for Pong. Your agent plays as the green paddle. Let's watch the match instant replay!"
      ]
    },
    {
      "cell_type": "code",
      "metadata": {
        "id": "TvHXbkL0tR6M"
      },
      "source": [
        "latest_pong = mdl.lab3.save_video_of_model(\n",
        "    pong_model, \"Pong-v0\", suffix=\"_latest\")\n",
        "mdl.lab3.play_video(latest_pong, width=400)"
      ],
      "execution_count": null,
      "outputs": []
    },
    {
      "cell_type": "markdown",
      "metadata": {
        "id": "TIlwIgBP3Js6"
      },
      "source": [
        "## 3.10 Conclusion and submission information\n",
        "\n",
        "That's it! Congratulations on training two RL agents and putting them to the test! We encourage you to consider the following:\n",
        "\n",
        "*   How does the agent perform?\n",
        "*   Could you train it for shorter amounts of time  and still perform well?\n",
        "* What are some limitations of the current representation i.e., difference of current and previous frames? How is this reflected in the agent's behavior? What could be done to generate an improved representation?\n",
        "* How does the complexity of Pong relative to CartPole alter the rate at which the agent learns and its performance? \n",
        "* What are some things you could change about the agent or the learning process to potentially improve performance?\n",
        "\n",
        "Try to optimize your **Pong** model and algorithm to achieve improved performance.  **MIT students and affiliates will be eligible for prizes during the IAP offering.** To enter the competition, MIT students and affiliates should upload the following to the course Canvas:\n",
        "\n",
        "* Jupyter notebook with the code you used to generate your results, **with the Pong training executed**;\n",
        "* saved video of your Pong agent competing;\n",
        "* a description and/or diagram of the architecture, settings, and hyperparameters you used to generate your result -- if there are any additional or interesting modifications you made to the template code, please include these in your description;\n",
        "* discussion of why these modifications helped improve performance.\n",
        "\n",
        "Good luck!"
      ]
    }
  ]
}